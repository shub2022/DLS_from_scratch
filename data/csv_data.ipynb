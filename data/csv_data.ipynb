{
  "nbformat": 4,
  "nbformat_minor": 0,
  "metadata": {
    "colab": {
      "provenance": []
    },
    "kernelspec": {
      "name": "python3",
      "display_name": "Python 3"
    },
    "language_info": {
      "name": "python"
    }
  },
  "cells": [
    {
      "cell_type": "code",
      "execution_count": null,
      "metadata": {
        "id": "yDAlsAj4XV7A"
      },
      "outputs": [],
      "source": []
    },
    {
      "cell_type": "code",
      "source": [
        "import pandas as pd\n",
        "import numpy as np\n",
        "from sklearn.preprocessing import StandardScaler\n",
        "import torch\n",
        "from torch.utils.data import Dataset, DataLoader\n",
        "import os\n",
        "import gdown\n",
        "import pathlib\n"
      ],
      "metadata": {
        "id": "6dFrEksSXXZk"
      },
      "execution_count": 1,
      "outputs": []
    },
    {
      "cell_type": "code",
      "source": [
        "class CSVDataset(Dataset):\n",
        "    def __init__(self, x, y):\n",
        "        self.x = x\n",
        "        self.y = y\n",
        "\n",
        "    def __len__(self):\n",
        "        return len(self.x)\n",
        "\n",
        "    def __getitem__(self, idx):\n",
        "        x = torch.from_numpy(self.x[idx]).float()\n",
        "        y = torch.from_numpy(self.y[idx]).float()\n",
        "        return x, y\n",
        "\n",
        "\n",
        "class CSVDatasetWrapper:\n",
        "    predictors = None\n",
        "    target = None\n",
        "    file_name = None\n",
        "    splits = [\"train\", \"validation\", \"test\"]\n",
        "    download_link = None\n",
        "    dataset_cls = CSVDataset\n",
        "\n",
        "    def __init__(self):\n",
        "\n",
        "        fpath = os.path.join(DATA_DIR, self.file_name)\n",
        "\n",
        "        if not os.path.exists(fpath):\n",
        "            gdown.download(self.download_link, fpath)\n",
        "\n",
        "        data = pd.read_csv(fpath)\n",
        "        self.data = data\n",
        "        self.clean_data()\n",
        "        # Ensure we get same split every time\n",
        "        np.random.seed(0)\n",
        "        self.split_x_target()\n",
        "        self.create_final_sets()\n",
        "\n",
        "    def clean_data(self):\n",
        "        \"\"\"Optionally implement in subclass\"\"\"\n",
        "        pass\n",
        "\n",
        "    def split_x_target(self):\n",
        "        \"\"\"\n",
        "        Optionally implement in subclass\n",
        "        \"\"\"\n",
        "        all_splits = {}\n",
        "        split_data = np.split(self.data, [int(.7 * len(self.data)), int(.85 * len(self.data))])\n",
        "        splits = [\n",
        "            [d[self.predictors].to_numpy(), d[[self.target]].to_numpy()] for d in\n",
        "            split_data]\n",
        "\n",
        "        for split_name, split in zip(self.splits, splits):\n",
        "            all_splits[split_name] = {\"x\": split[0], \"target\": split[1]}\n",
        "\n",
        "        self.split_data = all_splits\n",
        "\n",
        "    def create_final_sets(self):\n",
        "        \"\"\"\n",
        "        Optional override to do final processing\n",
        "        \"\"\"\n",
        "        self.final_data = self.split_data\n",
        "\n",
        "    def generate_dataset(self, x, target, batch_size):\n",
        "        dataset = self.dataset_cls(x, target)\n",
        "        loader = DataLoader(dataset, batch_size=batch_size, shuffle=True)\n",
        "        return loader\n",
        "\n",
        "    def generate_datasets(self, batch_size):\n",
        "        np.random.seed(0)\n",
        "\n",
        "        datasets = {}\n",
        "        for split_name, split in self.final_data.items():\n",
        "            loader = self.generate_dataset(split[\"x\"], split[\"target\"], batch_size)\n",
        "            datasets[split_name] = loader\n",
        "\n",
        "        return datasets\n",
        "\n",
        "    def get_flat_datasets(self):\n",
        "        datasets = []\n",
        "        for split_name, split in self.final_data.items():\n",
        "            datasets.append((split[\"x\"], split[\"target\"]))\n",
        "        return datasets\n"
      ],
      "metadata": {
        "id": "L_IJAgT8X2t_"
      },
      "execution_count": 3,
      "outputs": []
    },
    {
      "cell_type": "code",
      "source": [
        "class HousePricesDatasetWrapper(CSVDatasetWrapper):\n",
        "    predictors = [\"interest\", \"vacancy\", \"cpi\", \"price\", \"value\", \"adj_price\", \"adj_value\"]\n",
        "    target = \"next_quarter\"\n",
        "    file_name = \"house_prices.csv\"\n",
        "    splits = [\"train\", \"validation\", \"test\"]\n",
        "    download_link = \"https://drive.google.com/uc?export=download&id=1eWeeYlxNatpXQSsiFwQg2HJeYCTJNj9Z\"\n",
        "\n",
        "    def clean_data(self):\n",
        "        self.scaler = StandardScaler()\n",
        "        data = self.data.ffill()\n",
        "        data[self.predictors] = self.scaler.fit_transform(self.data[self.predictors])\n",
        "        data[self.target] = (data[self.target] - data[self.target].min()) // 1000\n",
        "        self.data = data"
      ],
      "metadata": {
        "id": "Ov7BWEVwYNOi"
      },
      "execution_count": 4,
      "outputs": []
    },
    {
      "cell_type": "code",
      "source": [],
      "metadata": {
        "id": "GltEhNiHHO8h"
      },
      "execution_count": null,
      "outputs": []
    }
  ]
}