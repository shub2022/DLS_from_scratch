{
  "nbformat": 4,
  "nbformat_minor": 0,
  "metadata": {
    "colab": {
      "provenance": []
    },
    "kernelspec": {
      "name": "python3",
      "display_name": "Python 3"
    },
    "language_info": {
      "name": "python"
    }
  },
  "cells": [
    {
      "cell_type": "code",
      "execution_count": null,
      "metadata": {
        "id": "yDAlsAj4XV7A"
      },
      "outputs": [],
      "source": []
    },
    {
      "cell_type": "code",
      "source": [
        "import pandas as pd\n",
        "import numpy as np\n",
        "from sklearn.preprocessing import StandardScaler\n",
        "import torch\n",
        "from torch.utils.data import Dataset, DataLoader\n",
        "import os\n",
        "import gdown\n",
        "import pathlib\n",
        "import sys\n",
        "\n",
        "# Get the script's directory using sys.argv[0]\n",
        "script_dir = os.path.dirname(os.path.abspath(sys.argv[0]))\n",
        "#print(script_dir)\n",
        "DATA_DIR = pathlib.Path(script_dir).resolve()\n",
        "#DATA_DIR = pathlib.Path(__file__).parent.resolve()\n",
        "print(DATA_DIR)\n"
      ],
      "metadata": {
        "id": "6dFrEksSXXZk",
        "colab": {
          "base_uri": "https://localhost:8080/"
        },
        "outputId": "f95f2522-2ce6-49ad-e6ec-3592949b762b"
      },
      "execution_count": 5,
      "outputs": [
        {
          "output_type": "stream",
          "name": "stdout",
          "text": [
            "/usr/local/lib/python3.10/dist-packages\n"
          ]
        }
      ]
    },
    {
      "cell_type": "code",
      "source": [
        "class CSVDataset(Dataset):\n",
        "    def __init__(self, x, y):\n",
        "        self.x = x\n",
        "        self.y = y\n",
        "\n",
        "    def __len__(self):\n",
        "        return len(self.x)\n",
        "\n",
        "    def __getitem__(self, idx):\n",
        "        x = torch.from_numpy(self.x[idx]).float()\n",
        "        y = torch.from_numpy(self.y[idx]).float()\n",
        "        return x, y\n",
        "\n",
        "\n",
        "class CSVDatasetWrapper:\n",
        "    predictors = None\n",
        "    target = None\n",
        "    file_name = None\n",
        "    splits = [\"train\", \"validation\", \"test\"]\n",
        "    download_link = None\n",
        "    dataset_cls = CSVDataset\n",
        "\n",
        "    def __init__(self):\n",
        "\n",
        "        fpath = os.path.join(DATA_DIR, self.file_name)\n",
        "        print(fpath)\n",
        "        if not os.path.exists(fpath):\n",
        "            gdown.download(self.download_link, fpath)\n",
        "\n",
        "        data = pd.read_csv(fpath)\n",
        "        self.data = data\n",
        "        self.clean_data()\n",
        "        # Ensure we get same split every time\n",
        "        np.random.seed(0)\n",
        "        self.split_x_target()\n",
        "        self.create_final_sets()\n",
        "\n",
        "    def clean_data(self):\n",
        "        \"\"\"Optionally implement in subclass\"\"\"\n",
        "        pass\n",
        "\n",
        "    def split_x_target(self):\n",
        "        \"\"\"\n",
        "        Optionally implement in subclass\n",
        "        \"\"\"\n",
        "        all_splits = {}\n",
        "        split_data = np.split(self.data, [int(.7 * len(self.data)), int(.85 * len(self.data))])\n",
        "        splits = [\n",
        "            [d[self.predictors].to_numpy(), d[[self.target]].to_numpy()] for d in\n",
        "            split_data]\n",
        "\n",
        "        for split_name, split in zip(self.splits, splits):\n",
        "            all_splits[split_name] = {\"x\": split[0], \"target\": split[1]}\n",
        "\n",
        "        self.split_data = all_splits\n",
        "\n",
        "    def create_final_sets(self):\n",
        "        \"\"\"\n",
        "        Optional override to do final processing\n",
        "        \"\"\"\n",
        "        self.final_data = self.split_data\n",
        "\n",
        "    def generate_dataset(self, x, target, batch_size):\n",
        "        dataset = self.dataset_cls(x, target)\n",
        "        loader = DataLoader(dataset, batch_size=batch_size, shuffle=True)\n",
        "        return loader\n",
        "\n",
        "    def generate_datasets(self, batch_size):\n",
        "        np.random.seed(0)\n",
        "\n",
        "        datasets = {}\n",
        "        for split_name, split in self.final_data.items():\n",
        "            loader = self.generate_dataset(split[\"x\"], split[\"target\"], batch_size)\n",
        "            datasets[split_name] = loader\n",
        "\n",
        "        return datasets\n",
        "\n",
        "    def get_flat_datasets(self):\n",
        "        datasets = []\n",
        "        for split_name, split in self.final_data.items():\n",
        "            datasets.append((split[\"x\"], split[\"target\"]))\n",
        "        return datasets\n",
        "\n",
        "\n",
        "class HousePricesDatasetWrapper(CSVDatasetWrapper):\n",
        "    predictors = [\"interest\", \"vacancy\", \"cpi\", \"price\", \"value\", \"adj_price\", \"adj_value\"]\n",
        "    target = \"next_quarter\"\n",
        "    file_name = \"house_prices.csv\"\n",
        "    splits = [\"train\", \"validation\", \"test\"]\n",
        "    download_link = \"https://drive.google.com/uc?export=download&id=1eWeeYlxNatpXQSsiFwQg2HJeYCTJNj9Z\"\n",
        "\n",
        "    def clean_data(self):\n",
        "        self.scaler = StandardScaler()\n",
        "        data = self.data.ffill()\n",
        "        data[self.predictors] = self.scaler.fit_transform(self.data[self.predictors])\n",
        "        data[self.target] = (data[self.target] - data[self.target].min()) // 1000\n",
        "        self.data = data\n",
        "\n",
        "\n",
        "class WeatherDatasetWrapper(CSVDatasetWrapper):\n",
        "    predictors = [\"tmax\", \"tmin\", \"rain\"]\n",
        "    target = \"tmax_tomorrow\"\n",
        "    file_name = \"clean_weather.csv\"\n",
        "    splits = [\"train\", \"validation\", \"test\"]\n",
        "    download_link = \"https://drive.google.com/uc?export=download&id=1O_uOTvMJb2FkUK7rB6lMqpPQqiAdLXNL\"\n",
        "    sequence_length = 7\n",
        "\n",
        "    def clean_data(self):\n",
        "        self.scaler = StandardScaler()\n",
        "        data = self.data.ffill()\n",
        "        data[self.predictors] = self.scaler.fit_transform(data[self.predictors])\n",
        "        self.data = data\n",
        "\n",
        "\n",
        "class WeatherDatasetWrapperRNN(CSVDatasetWrapper):\n",
        "    predictors = [\"tmax\", \"tmin\", \"rain\"]\n",
        "    target = \"tmax_tomorrow\"\n",
        "    file_name = \"clean_weather.csv\"\n",
        "    splits = [\"train\", \"validation\", \"test\"]\n",
        "    download_link = \"https://drive.google.com/uc?export=download&id=1O_uOTvMJb2FkUK7rB6lMqpPQqiAdLXNL\"\n",
        "    sequence_length = 7\n",
        "\n",
        "    def clean_data(self):\n",
        "        self.scaler = StandardScaler()\n",
        "        data = self.data.ffill()\n",
        "        data[self.predictors] = self.scaler.fit_transform(data[self.predictors])\n",
        "        self.data = data\n",
        "\n",
        "    def create_final_sets(self):\n",
        "        final_data = {}\n",
        "        for split_name, split in self.split_data.items():\n",
        "            for j in range(0, len(split[\"x\"]) - self.sequence_length):\n",
        "                if split_name not in final_data:\n",
        "                    final_data[split_name] = {\"x\": [], \"target\": []}\n",
        "                final_data[split_name][\"x\"].append(split[\"x\"][j:(j+7)])\n",
        "                final_data[split_name][\"target\"].append(split[\"target\"][j:(j+7)])\n",
        "        self.final_data = final_data\n",
        "\n",
        "\n",
        "class SkyServerDatasetWrapper(CSVDatasetWrapper):\n",
        "    predictors = [\"ra\", \"dec\", \"u\", \"g\", \"r\", \"i\", \"z\", \"run\", \"camcol\", \"field\", \"redshift\", \"plate\", \"mjd\"]\n",
        "    target = \"class\"\n",
        "    file_name = \"skyserver.csv\"\n",
        "    splits = [\"train\", \"validation\", \"test\"]\n",
        "    download_link = \"https://drive.google.com/u/0/uc?id=1gYwg5YyaV3zUX-07bLCol8E0M-uX__zX&export=download\"\n",
        "\n",
        "    def clean_data(self):\n",
        "        self.scaler = StandardScaler()\n",
        "        data = self.data.ffill()\n",
        "        data[self.predictors] = self.scaler.fit_transform(data[self.predictors])\n",
        "        data[self.target] = data[self.target].replace({\"STAR\": 0, \"GALAXY\": 1, \"QSO\": 2})\n",
        "        self.data = data\n",
        "\n",
        "\n",
        "class SkyServerBinaryDatasetWrapper(SkyServerDatasetWrapper):\n",
        "    def clean_data(self):\n",
        "        self.scaler = StandardScaler()\n",
        "        data = self.data.ffill()\n",
        "        data[self.predictors] = self.scaler.fit_transform(data[self.predictors])\n",
        "        data[self.target] = data[self.target].replace({\"STAR\": 0, \"GALAXY\": 1, \"QSO\": 0})\n",
        "        self.data = data"
      ],
      "metadata": {
        "id": "L_IJAgT8X2t_"
      },
      "execution_count": 8,
      "outputs": []
    },
    {
      "cell_type": "code",
      "source": [
        "wrapper = HousePricesDatasetWrapper()\n",
        "train_data, valid_data, test_data = wrapper.get_flat_datasets()"
      ],
      "metadata": {
        "colab": {
          "base_uri": "https://localhost:8080/"
        },
        "id": "Ov7BWEVwYNOi",
        "outputId": "a5550be9-6451-4c6d-ed0e-b666e92a1f2e"
      },
      "execution_count": 9,
      "outputs": [
        {
          "output_type": "stream",
          "name": "stdout",
          "text": [
            "/usr/local/lib/python3.10/dist-packages/house_prices.csv\n"
          ]
        }
      ]
    },
    {
      "cell_type": "code",
      "source": [],
      "metadata": {
        "id": "GltEhNiHHO8h"
      },
      "execution_count": null,
      "outputs": []
    }
  ]
}