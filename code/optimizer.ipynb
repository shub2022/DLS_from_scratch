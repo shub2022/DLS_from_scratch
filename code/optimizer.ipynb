{
  "nbformat": 4,
  "nbformat_minor": 0,
  "metadata": {
    "colab": {
      "provenance": []
    },
    "kernelspec": {
      "name": "python3",
      "display_name": "Python 3"
    },
    "language_info": {
      "name": "python"
    },
    "widgets": {
      "application/vnd.jupyter.widget-state+json": {
        "012bc0fa52a745ab995a1bc21b920f39": {
          "model_module": "@jupyter-widgets/controls",
          "model_name": "VBoxModel",
          "model_module_version": "1.5.0",
          "state": {
            "_dom_classes": [],
            "_model_module": "@jupyter-widgets/controls",
            "_model_module_version": "1.5.0",
            "_model_name": "VBoxModel",
            "_view_count": null,
            "_view_module": "@jupyter-widgets/controls",
            "_view_module_version": "1.5.0",
            "_view_name": "VBoxView",
            "box_style": "",
            "children": [
              "IPY_MODEL_9982ab311cac4df192f84e7b23e06857",
              "IPY_MODEL_e2b94658cf054519b9a7f82eede148a7"
            ],
            "layout": "IPY_MODEL_6bff013a265746588121345929cedcfb"
          }
        },
        "9982ab311cac4df192f84e7b23e06857": {
          "model_module": "@jupyter-widgets/controls",
          "model_name": "LabelModel",
          "model_module_version": "1.5.0",
          "state": {
            "_dom_classes": [],
            "_model_module": "@jupyter-widgets/controls",
            "_model_module_version": "1.5.0",
            "_model_name": "LabelModel",
            "_view_count": null,
            "_view_module": "@jupyter-widgets/controls",
            "_view_module_version": "1.5.0",
            "_view_name": "LabelView",
            "description": "",
            "description_tooltip": null,
            "layout": "IPY_MODEL_95c5662e06c0454888321688c7258cea",
            "placeholder": "​",
            "style": "IPY_MODEL_08d03a7a1d2a43ff93e78e1f89ba8fb4",
            "value": "0.011 MB of 0.011 MB uploaded\r"
          }
        },
        "e2b94658cf054519b9a7f82eede148a7": {
          "model_module": "@jupyter-widgets/controls",
          "model_name": "FloatProgressModel",
          "model_module_version": "1.5.0",
          "state": {
            "_dom_classes": [],
            "_model_module": "@jupyter-widgets/controls",
            "_model_module_version": "1.5.0",
            "_model_name": "FloatProgressModel",
            "_view_count": null,
            "_view_module": "@jupyter-widgets/controls",
            "_view_module_version": "1.5.0",
            "_view_name": "ProgressView",
            "bar_style": "",
            "description": "",
            "description_tooltip": null,
            "layout": "IPY_MODEL_e236f10f1d0e4d119d6a2614f51cc32d",
            "max": 1,
            "min": 0,
            "orientation": "horizontal",
            "style": "IPY_MODEL_434858d6868d4219ab3b978f540a31c2",
            "value": 1
          }
        },
        "6bff013a265746588121345929cedcfb": {
          "model_module": "@jupyter-widgets/base",
          "model_name": "LayoutModel",
          "model_module_version": "1.2.0",
          "state": {
            "_model_module": "@jupyter-widgets/base",
            "_model_module_version": "1.2.0",
            "_model_name": "LayoutModel",
            "_view_count": null,
            "_view_module": "@jupyter-widgets/base",
            "_view_module_version": "1.2.0",
            "_view_name": "LayoutView",
            "align_content": null,
            "align_items": null,
            "align_self": null,
            "border": null,
            "bottom": null,
            "display": null,
            "flex": null,
            "flex_flow": null,
            "grid_area": null,
            "grid_auto_columns": null,
            "grid_auto_flow": null,
            "grid_auto_rows": null,
            "grid_column": null,
            "grid_gap": null,
            "grid_row": null,
            "grid_template_areas": null,
            "grid_template_columns": null,
            "grid_template_rows": null,
            "height": null,
            "justify_content": null,
            "justify_items": null,
            "left": null,
            "margin": null,
            "max_height": null,
            "max_width": null,
            "min_height": null,
            "min_width": null,
            "object_fit": null,
            "object_position": null,
            "order": null,
            "overflow": null,
            "overflow_x": null,
            "overflow_y": null,
            "padding": null,
            "right": null,
            "top": null,
            "visibility": null,
            "width": null
          }
        },
        "95c5662e06c0454888321688c7258cea": {
          "model_module": "@jupyter-widgets/base",
          "model_name": "LayoutModel",
          "model_module_version": "1.2.0",
          "state": {
            "_model_module": "@jupyter-widgets/base",
            "_model_module_version": "1.2.0",
            "_model_name": "LayoutModel",
            "_view_count": null,
            "_view_module": "@jupyter-widgets/base",
            "_view_module_version": "1.2.0",
            "_view_name": "LayoutView",
            "align_content": null,
            "align_items": null,
            "align_self": null,
            "border": null,
            "bottom": null,
            "display": null,
            "flex": null,
            "flex_flow": null,
            "grid_area": null,
            "grid_auto_columns": null,
            "grid_auto_flow": null,
            "grid_auto_rows": null,
            "grid_column": null,
            "grid_gap": null,
            "grid_row": null,
            "grid_template_areas": null,
            "grid_template_columns": null,
            "grid_template_rows": null,
            "height": null,
            "justify_content": null,
            "justify_items": null,
            "left": null,
            "margin": null,
            "max_height": null,
            "max_width": null,
            "min_height": null,
            "min_width": null,
            "object_fit": null,
            "object_position": null,
            "order": null,
            "overflow": null,
            "overflow_x": null,
            "overflow_y": null,
            "padding": null,
            "right": null,
            "top": null,
            "visibility": null,
            "width": null
          }
        },
        "08d03a7a1d2a43ff93e78e1f89ba8fb4": {
          "model_module": "@jupyter-widgets/controls",
          "model_name": "DescriptionStyleModel",
          "model_module_version": "1.5.0",
          "state": {
            "_model_module": "@jupyter-widgets/controls",
            "_model_module_version": "1.5.0",
            "_model_name": "DescriptionStyleModel",
            "_view_count": null,
            "_view_module": "@jupyter-widgets/base",
            "_view_module_version": "1.2.0",
            "_view_name": "StyleView",
            "description_width": ""
          }
        },
        "e236f10f1d0e4d119d6a2614f51cc32d": {
          "model_module": "@jupyter-widgets/base",
          "model_name": "LayoutModel",
          "model_module_version": "1.2.0",
          "state": {
            "_model_module": "@jupyter-widgets/base",
            "_model_module_version": "1.2.0",
            "_model_name": "LayoutModel",
            "_view_count": null,
            "_view_module": "@jupyter-widgets/base",
            "_view_module_version": "1.2.0",
            "_view_name": "LayoutView",
            "align_content": null,
            "align_items": null,
            "align_self": null,
            "border": null,
            "bottom": null,
            "display": null,
            "flex": null,
            "flex_flow": null,
            "grid_area": null,
            "grid_auto_columns": null,
            "grid_auto_flow": null,
            "grid_auto_rows": null,
            "grid_column": null,
            "grid_gap": null,
            "grid_row": null,
            "grid_template_areas": null,
            "grid_template_columns": null,
            "grid_template_rows": null,
            "height": null,
            "justify_content": null,
            "justify_items": null,
            "left": null,
            "margin": null,
            "max_height": null,
            "max_width": null,
            "min_height": null,
            "min_width": null,
            "object_fit": null,
            "object_position": null,
            "order": null,
            "overflow": null,
            "overflow_x": null,
            "overflow_y": null,
            "padding": null,
            "right": null,
            "top": null,
            "visibility": null,
            "width": null
          }
        },
        "434858d6868d4219ab3b978f540a31c2": {
          "model_module": "@jupyter-widgets/controls",
          "model_name": "ProgressStyleModel",
          "model_module_version": "1.5.0",
          "state": {
            "_model_module": "@jupyter-widgets/controls",
            "_model_module_version": "1.5.0",
            "_model_name": "ProgressStyleModel",
            "_view_count": null,
            "_view_module": "@jupyter-widgets/base",
            "_view_module_version": "1.2.0",
            "_view_name": "StyleView",
            "bar_color": null,
            "description_width": ""
          }
        },
        "3b64862ae080431689327d4841f13abc": {
          "model_module": "@jupyter-widgets/controls",
          "model_name": "VBoxModel",
          "model_module_version": "1.5.0",
          "state": {
            "_dom_classes": [],
            "_model_module": "@jupyter-widgets/controls",
            "_model_module_version": "1.5.0",
            "_model_name": "VBoxModel",
            "_view_count": null,
            "_view_module": "@jupyter-widgets/controls",
            "_view_module_version": "1.5.0",
            "_view_name": "VBoxView",
            "box_style": "",
            "children": [
              "IPY_MODEL_f723df6bd833428b96a7a7adbc104de1",
              "IPY_MODEL_56118b109f734939867bce00e73a7ea9"
            ],
            "layout": "IPY_MODEL_b69ba28fe5c44150951a83df3e58d2ce"
          }
        },
        "f723df6bd833428b96a7a7adbc104de1": {
          "model_module": "@jupyter-widgets/controls",
          "model_name": "LabelModel",
          "model_module_version": "1.5.0",
          "state": {
            "_dom_classes": [],
            "_model_module": "@jupyter-widgets/controls",
            "_model_module_version": "1.5.0",
            "_model_name": "LabelModel",
            "_view_count": null,
            "_view_module": "@jupyter-widgets/controls",
            "_view_module_version": "1.5.0",
            "_view_name": "LabelView",
            "description": "",
            "description_tooltip": null,
            "layout": "IPY_MODEL_8eea110bec57489b9b24dd13adadc91f",
            "placeholder": "​",
            "style": "IPY_MODEL_2869807cf1fa49669f8c8378f3c9ac55",
            "value": "0.011 MB of 0.011 MB uploaded\r"
          }
        },
        "56118b109f734939867bce00e73a7ea9": {
          "model_module": "@jupyter-widgets/controls",
          "model_name": "FloatProgressModel",
          "model_module_version": "1.5.0",
          "state": {
            "_dom_classes": [],
            "_model_module": "@jupyter-widgets/controls",
            "_model_module_version": "1.5.0",
            "_model_name": "FloatProgressModel",
            "_view_count": null,
            "_view_module": "@jupyter-widgets/controls",
            "_view_module_version": "1.5.0",
            "_view_name": "ProgressView",
            "bar_style": "",
            "description": "",
            "description_tooltip": null,
            "layout": "IPY_MODEL_9836d4df72bc46bf8c20bb0c92cb4206",
            "max": 1,
            "min": 0,
            "orientation": "horizontal",
            "style": "IPY_MODEL_54fb8b8a2d0c4ee58f7ca4ceb961ff7e",
            "value": 1
          }
        },
        "b69ba28fe5c44150951a83df3e58d2ce": {
          "model_module": "@jupyter-widgets/base",
          "model_name": "LayoutModel",
          "model_module_version": "1.2.0",
          "state": {
            "_model_module": "@jupyter-widgets/base",
            "_model_module_version": "1.2.0",
            "_model_name": "LayoutModel",
            "_view_count": null,
            "_view_module": "@jupyter-widgets/base",
            "_view_module_version": "1.2.0",
            "_view_name": "LayoutView",
            "align_content": null,
            "align_items": null,
            "align_self": null,
            "border": null,
            "bottom": null,
            "display": null,
            "flex": null,
            "flex_flow": null,
            "grid_area": null,
            "grid_auto_columns": null,
            "grid_auto_flow": null,
            "grid_auto_rows": null,
            "grid_column": null,
            "grid_gap": null,
            "grid_row": null,
            "grid_template_areas": null,
            "grid_template_columns": null,
            "grid_template_rows": null,
            "height": null,
            "justify_content": null,
            "justify_items": null,
            "left": null,
            "margin": null,
            "max_height": null,
            "max_width": null,
            "min_height": null,
            "min_width": null,
            "object_fit": null,
            "object_position": null,
            "order": null,
            "overflow": null,
            "overflow_x": null,
            "overflow_y": null,
            "padding": null,
            "right": null,
            "top": null,
            "visibility": null,
            "width": null
          }
        },
        "8eea110bec57489b9b24dd13adadc91f": {
          "model_module": "@jupyter-widgets/base",
          "model_name": "LayoutModel",
          "model_module_version": "1.2.0",
          "state": {
            "_model_module": "@jupyter-widgets/base",
            "_model_module_version": "1.2.0",
            "_model_name": "LayoutModel",
            "_view_count": null,
            "_view_module": "@jupyter-widgets/base",
            "_view_module_version": "1.2.0",
            "_view_name": "LayoutView",
            "align_content": null,
            "align_items": null,
            "align_self": null,
            "border": null,
            "bottom": null,
            "display": null,
            "flex": null,
            "flex_flow": null,
            "grid_area": null,
            "grid_auto_columns": null,
            "grid_auto_flow": null,
            "grid_auto_rows": null,
            "grid_column": null,
            "grid_gap": null,
            "grid_row": null,
            "grid_template_areas": null,
            "grid_template_columns": null,
            "grid_template_rows": null,
            "height": null,
            "justify_content": null,
            "justify_items": null,
            "left": null,
            "margin": null,
            "max_height": null,
            "max_width": null,
            "min_height": null,
            "min_width": null,
            "object_fit": null,
            "object_position": null,
            "order": null,
            "overflow": null,
            "overflow_x": null,
            "overflow_y": null,
            "padding": null,
            "right": null,
            "top": null,
            "visibility": null,
            "width": null
          }
        },
        "2869807cf1fa49669f8c8378f3c9ac55": {
          "model_module": "@jupyter-widgets/controls",
          "model_name": "DescriptionStyleModel",
          "model_module_version": "1.5.0",
          "state": {
            "_model_module": "@jupyter-widgets/controls",
            "_model_module_version": "1.5.0",
            "_model_name": "DescriptionStyleModel",
            "_view_count": null,
            "_view_module": "@jupyter-widgets/base",
            "_view_module_version": "1.2.0",
            "_view_name": "StyleView",
            "description_width": ""
          }
        },
        "9836d4df72bc46bf8c20bb0c92cb4206": {
          "model_module": "@jupyter-widgets/base",
          "model_name": "LayoutModel",
          "model_module_version": "1.2.0",
          "state": {
            "_model_module": "@jupyter-widgets/base",
            "_model_module_version": "1.2.0",
            "_model_name": "LayoutModel",
            "_view_count": null,
            "_view_module": "@jupyter-widgets/base",
            "_view_module_version": "1.2.0",
            "_view_name": "LayoutView",
            "align_content": null,
            "align_items": null,
            "align_self": null,
            "border": null,
            "bottom": null,
            "display": null,
            "flex": null,
            "flex_flow": null,
            "grid_area": null,
            "grid_auto_columns": null,
            "grid_auto_flow": null,
            "grid_auto_rows": null,
            "grid_column": null,
            "grid_gap": null,
            "grid_row": null,
            "grid_template_areas": null,
            "grid_template_columns": null,
            "grid_template_rows": null,
            "height": null,
            "justify_content": null,
            "justify_items": null,
            "left": null,
            "margin": null,
            "max_height": null,
            "max_width": null,
            "min_height": null,
            "min_width": null,
            "object_fit": null,
            "object_position": null,
            "order": null,
            "overflow": null,
            "overflow_x": null,
            "overflow_y": null,
            "padding": null,
            "right": null,
            "top": null,
            "visibility": null,
            "width": null
          }
        },
        "54fb8b8a2d0c4ee58f7ca4ceb961ff7e": {
          "model_module": "@jupyter-widgets/controls",
          "model_name": "ProgressStyleModel",
          "model_module_version": "1.5.0",
          "state": {
            "_model_module": "@jupyter-widgets/controls",
            "_model_module_version": "1.5.0",
            "_model_name": "ProgressStyleModel",
            "_view_count": null,
            "_view_module": "@jupyter-widgets/base",
            "_view_module_version": "1.2.0",
            "_view_name": "StyleView",
            "bar_color": null,
            "description_width": ""
          }
        },
        "34ae0d5d56c84a54a83f22fb9ebe0cc5": {
          "model_module": "@jupyter-widgets/controls",
          "model_name": "VBoxModel",
          "model_module_version": "1.5.0",
          "state": {
            "_dom_classes": [],
            "_model_module": "@jupyter-widgets/controls",
            "_model_module_version": "1.5.0",
            "_model_name": "VBoxModel",
            "_view_count": null,
            "_view_module": "@jupyter-widgets/controls",
            "_view_module_version": "1.5.0",
            "_view_name": "VBoxView",
            "box_style": "",
            "children": [
              "IPY_MODEL_4942a5d0b6c841939edc01bf7279a024",
              "IPY_MODEL_329395ff90d541e6bbda35ae2786307a"
            ],
            "layout": "IPY_MODEL_43b8845acaa74c579b34f6dab5994ed2"
          }
        },
        "4942a5d0b6c841939edc01bf7279a024": {
          "model_module": "@jupyter-widgets/controls",
          "model_name": "LabelModel",
          "model_module_version": "1.5.0",
          "state": {
            "_dom_classes": [],
            "_model_module": "@jupyter-widgets/controls",
            "_model_module_version": "1.5.0",
            "_model_name": "LabelModel",
            "_view_count": null,
            "_view_module": "@jupyter-widgets/controls",
            "_view_module_version": "1.5.0",
            "_view_name": "LabelView",
            "description": "",
            "description_tooltip": null,
            "layout": "IPY_MODEL_1112d2ca47574d2cae317e26bc7367a2",
            "placeholder": "​",
            "style": "IPY_MODEL_c39577def29349adbdab7f2f02e812cd",
            "value": "0.011 MB of 0.011 MB uploaded\r"
          }
        },
        "329395ff90d541e6bbda35ae2786307a": {
          "model_module": "@jupyter-widgets/controls",
          "model_name": "FloatProgressModel",
          "model_module_version": "1.5.0",
          "state": {
            "_dom_classes": [],
            "_model_module": "@jupyter-widgets/controls",
            "_model_module_version": "1.5.0",
            "_model_name": "FloatProgressModel",
            "_view_count": null,
            "_view_module": "@jupyter-widgets/controls",
            "_view_module_version": "1.5.0",
            "_view_name": "ProgressView",
            "bar_style": "",
            "description": "",
            "description_tooltip": null,
            "layout": "IPY_MODEL_e8207f6e1cf84f3292315418449462ee",
            "max": 1,
            "min": 0,
            "orientation": "horizontal",
            "style": "IPY_MODEL_9440a64ada294077acc8ed4b51ef3005",
            "value": 1
          }
        },
        "43b8845acaa74c579b34f6dab5994ed2": {
          "model_module": "@jupyter-widgets/base",
          "model_name": "LayoutModel",
          "model_module_version": "1.2.0",
          "state": {
            "_model_module": "@jupyter-widgets/base",
            "_model_module_version": "1.2.0",
            "_model_name": "LayoutModel",
            "_view_count": null,
            "_view_module": "@jupyter-widgets/base",
            "_view_module_version": "1.2.0",
            "_view_name": "LayoutView",
            "align_content": null,
            "align_items": null,
            "align_self": null,
            "border": null,
            "bottom": null,
            "display": null,
            "flex": null,
            "flex_flow": null,
            "grid_area": null,
            "grid_auto_columns": null,
            "grid_auto_flow": null,
            "grid_auto_rows": null,
            "grid_column": null,
            "grid_gap": null,
            "grid_row": null,
            "grid_template_areas": null,
            "grid_template_columns": null,
            "grid_template_rows": null,
            "height": null,
            "justify_content": null,
            "justify_items": null,
            "left": null,
            "margin": null,
            "max_height": null,
            "max_width": null,
            "min_height": null,
            "min_width": null,
            "object_fit": null,
            "object_position": null,
            "order": null,
            "overflow": null,
            "overflow_x": null,
            "overflow_y": null,
            "padding": null,
            "right": null,
            "top": null,
            "visibility": null,
            "width": null
          }
        },
        "1112d2ca47574d2cae317e26bc7367a2": {
          "model_module": "@jupyter-widgets/base",
          "model_name": "LayoutModel",
          "model_module_version": "1.2.0",
          "state": {
            "_model_module": "@jupyter-widgets/base",
            "_model_module_version": "1.2.0",
            "_model_name": "LayoutModel",
            "_view_count": null,
            "_view_module": "@jupyter-widgets/base",
            "_view_module_version": "1.2.0",
            "_view_name": "LayoutView",
            "align_content": null,
            "align_items": null,
            "align_self": null,
            "border": null,
            "bottom": null,
            "display": null,
            "flex": null,
            "flex_flow": null,
            "grid_area": null,
            "grid_auto_columns": null,
            "grid_auto_flow": null,
            "grid_auto_rows": null,
            "grid_column": null,
            "grid_gap": null,
            "grid_row": null,
            "grid_template_areas": null,
            "grid_template_columns": null,
            "grid_template_rows": null,
            "height": null,
            "justify_content": null,
            "justify_items": null,
            "left": null,
            "margin": null,
            "max_height": null,
            "max_width": null,
            "min_height": null,
            "min_width": null,
            "object_fit": null,
            "object_position": null,
            "order": null,
            "overflow": null,
            "overflow_x": null,
            "overflow_y": null,
            "padding": null,
            "right": null,
            "top": null,
            "visibility": null,
            "width": null
          }
        },
        "c39577def29349adbdab7f2f02e812cd": {
          "model_module": "@jupyter-widgets/controls",
          "model_name": "DescriptionStyleModel",
          "model_module_version": "1.5.0",
          "state": {
            "_model_module": "@jupyter-widgets/controls",
            "_model_module_version": "1.5.0",
            "_model_name": "DescriptionStyleModel",
            "_view_count": null,
            "_view_module": "@jupyter-widgets/base",
            "_view_module_version": "1.2.0",
            "_view_name": "StyleView",
            "description_width": ""
          }
        },
        "e8207f6e1cf84f3292315418449462ee": {
          "model_module": "@jupyter-widgets/base",
          "model_name": "LayoutModel",
          "model_module_version": "1.2.0",
          "state": {
            "_model_module": "@jupyter-widgets/base",
            "_model_module_version": "1.2.0",
            "_model_name": "LayoutModel",
            "_view_count": null,
            "_view_module": "@jupyter-widgets/base",
            "_view_module_version": "1.2.0",
            "_view_name": "LayoutView",
            "align_content": null,
            "align_items": null,
            "align_self": null,
            "border": null,
            "bottom": null,
            "display": null,
            "flex": null,
            "flex_flow": null,
            "grid_area": null,
            "grid_auto_columns": null,
            "grid_auto_flow": null,
            "grid_auto_rows": null,
            "grid_column": null,
            "grid_gap": null,
            "grid_row": null,
            "grid_template_areas": null,
            "grid_template_columns": null,
            "grid_template_rows": null,
            "height": null,
            "justify_content": null,
            "justify_items": null,
            "left": null,
            "margin": null,
            "max_height": null,
            "max_width": null,
            "min_height": null,
            "min_width": null,
            "object_fit": null,
            "object_position": null,
            "order": null,
            "overflow": null,
            "overflow_x": null,
            "overflow_y": null,
            "padding": null,
            "right": null,
            "top": null,
            "visibility": null,
            "width": null
          }
        },
        "9440a64ada294077acc8ed4b51ef3005": {
          "model_module": "@jupyter-widgets/controls",
          "model_name": "ProgressStyleModel",
          "model_module_version": "1.5.0",
          "state": {
            "_model_module": "@jupyter-widgets/controls",
            "_model_module_version": "1.5.0",
            "_model_name": "ProgressStyleModel",
            "_view_count": null,
            "_view_module": "@jupyter-widgets/base",
            "_view_module_version": "1.2.0",
            "_view_name": "StyleView",
            "bar_color": null,
            "description_width": ""
          }
        },
        "4b1582f9e3494c93a0a1a0e29273277d": {
          "model_module": "@jupyter-widgets/controls",
          "model_name": "VBoxModel",
          "model_module_version": "1.5.0",
          "state": {
            "_dom_classes": [],
            "_model_module": "@jupyter-widgets/controls",
            "_model_module_version": "1.5.0",
            "_model_name": "VBoxModel",
            "_view_count": null,
            "_view_module": "@jupyter-widgets/controls",
            "_view_module_version": "1.5.0",
            "_view_name": "VBoxView",
            "box_style": "",
            "children": [
              "IPY_MODEL_23b7abce1b8145a393af2884daccabd5",
              "IPY_MODEL_7e04be335eec414faddff3e1b112be11"
            ],
            "layout": "IPY_MODEL_a326d74b72ab4731af9df498b2e35222"
          }
        },
        "23b7abce1b8145a393af2884daccabd5": {
          "model_module": "@jupyter-widgets/controls",
          "model_name": "LabelModel",
          "model_module_version": "1.5.0",
          "state": {
            "_dom_classes": [],
            "_model_module": "@jupyter-widgets/controls",
            "_model_module_version": "1.5.0",
            "_model_name": "LabelModel",
            "_view_count": null,
            "_view_module": "@jupyter-widgets/controls",
            "_view_module_version": "1.5.0",
            "_view_name": "LabelView",
            "description": "",
            "description_tooltip": null,
            "layout": "IPY_MODEL_476631bcee074a7691f775f8ee4ffa9a",
            "placeholder": "​",
            "style": "IPY_MODEL_a105a8e2662e47eb99f3a547562f2cd3",
            "value": "0.011 MB of 0.011 MB uploaded\r"
          }
        },
        "7e04be335eec414faddff3e1b112be11": {
          "model_module": "@jupyter-widgets/controls",
          "model_name": "FloatProgressModel",
          "model_module_version": "1.5.0",
          "state": {
            "_dom_classes": [],
            "_model_module": "@jupyter-widgets/controls",
            "_model_module_version": "1.5.0",
            "_model_name": "FloatProgressModel",
            "_view_count": null,
            "_view_module": "@jupyter-widgets/controls",
            "_view_module_version": "1.5.0",
            "_view_name": "ProgressView",
            "bar_style": "",
            "description": "",
            "description_tooltip": null,
            "layout": "IPY_MODEL_92262375d45f4359830a241ece12409d",
            "max": 1,
            "min": 0,
            "orientation": "horizontal",
            "style": "IPY_MODEL_4c82a282ac854e22b110157c9ac1cc84",
            "value": 1
          }
        },
        "a326d74b72ab4731af9df498b2e35222": {
          "model_module": "@jupyter-widgets/base",
          "model_name": "LayoutModel",
          "model_module_version": "1.2.0",
          "state": {
            "_model_module": "@jupyter-widgets/base",
            "_model_module_version": "1.2.0",
            "_model_name": "LayoutModel",
            "_view_count": null,
            "_view_module": "@jupyter-widgets/base",
            "_view_module_version": "1.2.0",
            "_view_name": "LayoutView",
            "align_content": null,
            "align_items": null,
            "align_self": null,
            "border": null,
            "bottom": null,
            "display": null,
            "flex": null,
            "flex_flow": null,
            "grid_area": null,
            "grid_auto_columns": null,
            "grid_auto_flow": null,
            "grid_auto_rows": null,
            "grid_column": null,
            "grid_gap": null,
            "grid_row": null,
            "grid_template_areas": null,
            "grid_template_columns": null,
            "grid_template_rows": null,
            "height": null,
            "justify_content": null,
            "justify_items": null,
            "left": null,
            "margin": null,
            "max_height": null,
            "max_width": null,
            "min_height": null,
            "min_width": null,
            "object_fit": null,
            "object_position": null,
            "order": null,
            "overflow": null,
            "overflow_x": null,
            "overflow_y": null,
            "padding": null,
            "right": null,
            "top": null,
            "visibility": null,
            "width": null
          }
        },
        "476631bcee074a7691f775f8ee4ffa9a": {
          "model_module": "@jupyter-widgets/base",
          "model_name": "LayoutModel",
          "model_module_version": "1.2.0",
          "state": {
            "_model_module": "@jupyter-widgets/base",
            "_model_module_version": "1.2.0",
            "_model_name": "LayoutModel",
            "_view_count": null,
            "_view_module": "@jupyter-widgets/base",
            "_view_module_version": "1.2.0",
            "_view_name": "LayoutView",
            "align_content": null,
            "align_items": null,
            "align_self": null,
            "border": null,
            "bottom": null,
            "display": null,
            "flex": null,
            "flex_flow": null,
            "grid_area": null,
            "grid_auto_columns": null,
            "grid_auto_flow": null,
            "grid_auto_rows": null,
            "grid_column": null,
            "grid_gap": null,
            "grid_row": null,
            "grid_template_areas": null,
            "grid_template_columns": null,
            "grid_template_rows": null,
            "height": null,
            "justify_content": null,
            "justify_items": null,
            "left": null,
            "margin": null,
            "max_height": null,
            "max_width": null,
            "min_height": null,
            "min_width": null,
            "object_fit": null,
            "object_position": null,
            "order": null,
            "overflow": null,
            "overflow_x": null,
            "overflow_y": null,
            "padding": null,
            "right": null,
            "top": null,
            "visibility": null,
            "width": null
          }
        },
        "a105a8e2662e47eb99f3a547562f2cd3": {
          "model_module": "@jupyter-widgets/controls",
          "model_name": "DescriptionStyleModel",
          "model_module_version": "1.5.0",
          "state": {
            "_model_module": "@jupyter-widgets/controls",
            "_model_module_version": "1.5.0",
            "_model_name": "DescriptionStyleModel",
            "_view_count": null,
            "_view_module": "@jupyter-widgets/base",
            "_view_module_version": "1.2.0",
            "_view_name": "StyleView",
            "description_width": ""
          }
        },
        "92262375d45f4359830a241ece12409d": {
          "model_module": "@jupyter-widgets/base",
          "model_name": "LayoutModel",
          "model_module_version": "1.2.0",
          "state": {
            "_model_module": "@jupyter-widgets/base",
            "_model_module_version": "1.2.0",
            "_model_name": "LayoutModel",
            "_view_count": null,
            "_view_module": "@jupyter-widgets/base",
            "_view_module_version": "1.2.0",
            "_view_name": "LayoutView",
            "align_content": null,
            "align_items": null,
            "align_self": null,
            "border": null,
            "bottom": null,
            "display": null,
            "flex": null,
            "flex_flow": null,
            "grid_area": null,
            "grid_auto_columns": null,
            "grid_auto_flow": null,
            "grid_auto_rows": null,
            "grid_column": null,
            "grid_gap": null,
            "grid_row": null,
            "grid_template_areas": null,
            "grid_template_columns": null,
            "grid_template_rows": null,
            "height": null,
            "justify_content": null,
            "justify_items": null,
            "left": null,
            "margin": null,
            "max_height": null,
            "max_width": null,
            "min_height": null,
            "min_width": null,
            "object_fit": null,
            "object_position": null,
            "order": null,
            "overflow": null,
            "overflow_x": null,
            "overflow_y": null,
            "padding": null,
            "right": null,
            "top": null,
            "visibility": null,
            "width": null
          }
        },
        "4c82a282ac854e22b110157c9ac1cc84": {
          "model_module": "@jupyter-widgets/controls",
          "model_name": "ProgressStyleModel",
          "model_module_version": "1.5.0",
          "state": {
            "_model_module": "@jupyter-widgets/controls",
            "_model_module_version": "1.5.0",
            "_model_name": "ProgressStyleModel",
            "_view_count": null,
            "_view_module": "@jupyter-widgets/base",
            "_view_module_version": "1.2.0",
            "_view_name": "StyleView",
            "bar_color": null,
            "description_width": ""
          }
        }
      }
    }
  },
  "cells": [
    {
      "cell_type": "code",
      "execution_count": 1,
      "metadata": {
        "id": "yDAlsAj4XV7A",
        "colab": {
          "base_uri": "https://localhost:8080/"
        },
        "outputId": "69a292df-2056-4f9d-e45b-6d4e2b2e121b"
      },
      "outputs": [
        {
          "output_type": "stream",
          "name": "stdout",
          "text": [
            "Cloning into 'Optimizers_DLS'...\n",
            "remote: Enumerating objects: 66, done.\u001b[K\n",
            "remote: Counting objects: 100% (66/66), done.\u001b[K\n",
            "remote: Compressing objects: 100% (59/59), done.\u001b[K\n",
            "remote: Total 66 (delta 13), reused 0 (delta 0), pack-reused 0\u001b[K\n",
            "Receiving objects: 100% (66/66), 66.58 KiB | 973.00 KiB/s, done.\n",
            "Resolving deltas: 100% (13/13), done.\n"
          ]
        }
      ],
      "source": [
        "!git clone https://github.com/shub2022/Optimizers_DLS"
      ]
    },
    {
      "cell_type": "code",
      "source": [
        "ls"
      ],
      "metadata": {
        "colab": {
          "base_uri": "https://localhost:8080/"
        },
        "id": "b_924eFHJBJ6",
        "outputId": "ca8b5686-45ab-4e64-f147-bc07141c6b27"
      },
      "execution_count": 2,
      "outputs": [
        {
          "output_type": "stream",
          "name": "stdout",
          "text": [
            "\u001b[0m\u001b[01;34mOptimizers_DLS\u001b[0m/  \u001b[01;34msample_data\u001b[0m/\n"
          ]
        }
      ]
    },
    {
      "cell_type": "code",
      "source": [
        "%cd Optimizers_DLS/"
      ],
      "metadata": {
        "colab": {
          "base_uri": "https://localhost:8080/"
        },
        "id": "MgRZvbehJC5H",
        "outputId": "6f34592e-438e-4fc1-b1ae-3a88fb040a2e"
      },
      "execution_count": 3,
      "outputs": [
        {
          "output_type": "stream",
          "name": "stdout",
          "text": [
            "/content/Optimizers_DLS\n"
          ]
        }
      ]
    },
    {
      "cell_type": "code",
      "source": [
        "%cd data/"
      ],
      "metadata": {
        "colab": {
          "base_uri": "https://localhost:8080/"
        },
        "id": "mEZo4YtWJNHD",
        "outputId": "8bd345e0-57f1-4640-94ad-97179374523b"
      },
      "execution_count": 4,
      "outputs": [
        {
          "output_type": "stream",
          "name": "stdout",
          "text": [
            "/content/Optimizers_DLS/data\n"
          ]
        }
      ]
    },
    {
      "cell_type": "code",
      "source": [
        "from csv_data import HousePricesDatasetWrapper\n",
        "\n",
        "wrapper = HousePricesDatasetWrapper()\n",
        "train_data, valid_data, test_data = wrapper.get_flat_datasets()"
      ],
      "metadata": {
        "id": "6dFrEksSXXZk",
        "colab": {
          "base_uri": "https://localhost:8080/"
        },
        "outputId": "e4d6b774-0ba9-442b-a82e-239f8397452d"
      },
      "execution_count": 5,
      "outputs": [
        {
          "output_type": "stream",
          "name": "stdout",
          "text": [
            "/usr/local/lib/python3.10/dist-packages\n",
            "/usr/local/lib/python3.10/dist-packages/house_prices.csv\n"
          ]
        },
        {
          "output_type": "stream",
          "name": "stderr",
          "text": [
            "Downloading...\n",
            "From: https://drive.google.com/uc?export=download&id=1eWeeYlxNatpXQSsiFwQg2HJeYCTJNj9Z\n",
            "To: /usr/local/lib/python3.10/dist-packages/house_prices.csv\n",
            "100%|██████████| 71.2k/71.2k [00:00<00:00, 4.20MB/s]\n"
          ]
        }
      ]
    },
    {
      "cell_type": "code",
      "source": [
        "# Show the train predictors\n",
        "train_data[0][:2]"
      ],
      "metadata": {
        "id": "L_IJAgT8X2t_"
      },
      "execution_count": null,
      "outputs": []
    },
    {
      "cell_type": "code",
      "source": [
        "# Show the train target\n",
        "train_data[1][:2]"
      ],
      "metadata": {
        "id": "Ov7BWEVwYNOi"
      },
      "execution_count": null,
      "outputs": []
    },
    {
      "cell_type": "code",
      "source": [
        "# Defining a class for creating Dense layers\n",
        "import math\n",
        "import numpy as np\n",
        "\n",
        "class Dense():\n",
        "  def __init__(self,input_size,output_size,activation=True,seed=0): # Activation always set as true, set seed as zero for initializing random weight matrices\n",
        "    self.add_activation=activation\n",
        "    self.hidden=None\n",
        "    self.prev_hidden=None # Hidden and previous hidden will be eventually used for creating a \"Fully Connected Dense Neural Network\"\n",
        "    # Will be using ReLu activation function hence using LeCun Normal intializing strategy for weight matrices\n",
        "    np.random.seed(seed)\n",
        "    k=math.sqrt(1/input_size)\n",
        "    self.weights = (k**2) * np.random.randn(input_size,output_size) + 0\n",
        "\n",
        "    # Intializing bias to 1\n",
        "    self.bias=np.ones((1,output_size))\n",
        "\n",
        "  # Defining forward propagation function\n",
        "  def forward(self,x):\n",
        "    self.prev_hidden=x.copy()\n",
        "    x=np.matmul(x,self.weights) + self.bias\n",
        "\n",
        "    if self.add_activation:\n",
        "      x=np.maximum(x,0)\n",
        "\n",
        "    self.hidden=x.copy()\n",
        "    return x\n",
        "\n",
        "  # Defining the backward propagation function\n",
        "  def backward(self,grad): # Grad is the gradient for the current layer\n",
        "    # Undo ing the activation function (ReLu)\n",
        "    if self.add_activation:\n",
        "      grad = np.multiply(grad, np.heaviside(self.hidden, 0))\n",
        "\n",
        "    # Calculating the weight and bias gradient\n",
        "    w_grad=self.prev_hidden.T @ grad\n",
        "    b_grad = np.mean(grad, axis=0)\n",
        "    param_grads = [w_grad, b_grad]\n",
        "\n",
        "    grad= grad @ self.weights.T\n",
        "    return param_grads, grad\n",
        "\n",
        "  # defining function to update the weights based on the gradient\n",
        "\n",
        "  def update(self,w_grad,b_grad):\n",
        "    self.weights += w_grad\n",
        "    self.bias += b_grad\n",
        "\n",
        "\n",
        "\n",
        "\n",
        "\n",
        "\n"
      ],
      "metadata": {
        "id": "GltEhNiHHO8h"
      },
      "execution_count": 6,
      "outputs": []
    },
    {
      "cell_type": "code",
      "source": [
        "# 3 layer neural network - 7 inputs (dimension) making 25 hidden features, second layer makes 10 hidden features and then the last layer gives one output\n",
        "layers = [\n",
        "    Dense(7, 25),\n",
        "    Dense(25, 10),\n",
        "    Dense(10, 1, activation=False)\n",
        "]"
      ],
      "metadata": {
        "id": "cqgZlMGjVnPT"
      },
      "execution_count": 7,
      "outputs": []
    },
    {
      "cell_type": "code",
      "source": [
        "# Now creating a neural network\n",
        "\n",
        "def forward(x, layers):\n",
        "    # Loop through each layer\n",
        "    for layer in layers:\n",
        "        # Run the forward pass\n",
        "        x = layer.forward(x)\n",
        "    return x\n",
        "\n",
        "def backward(grad, layers):\n",
        "    # Save the gradients for each layer\n",
        "    layer_grads = []\n",
        "    # Loop through each layer in reverse order (starting from the output layer)\n",
        "    for layer in reversed(layers):\n",
        "        # Get the parameter gradients and the next layer gradient\n",
        "        param_grads, grad = layer.backward(grad)\n",
        "        layer_grads.append(param_grads)\n",
        "    return layer_grads\n"
      ],
      "metadata": {
        "id": "HRECP0z8VojB"
      },
      "execution_count": 8,
      "outputs": []
    },
    {
      "cell_type": "code",
      "source": [
        "import matplotlib.pyplot as plt\n",
        "import numpy as np\n",
        "\n",
        "class Optimizer():\n",
        "    def __init__(self):\n",
        "        self.w_vals = []\n",
        "        self.final_weights = None\n",
        "\n",
        "    def save_vector(self, layers):\n",
        "        # Do SVD on the matrix to get singular values\n",
        "        _, singular, _ = np.linalg.svd(layers[-1].weights)\n",
        "        # Add the final layer singular value to the list\n",
        "        self.w_vals.append(singular[0]) # Appending the highest singular value, singular value can be used for deciding the learning rate. High SV means high gradient and LR should be low\n",
        "        self.final_weights = layers[-1].weights\n",
        "\n",
        "    def plot_path(self):\n",
        "        indices = np.linspace(0, len(self.w_vals)-1, 500, dtype=int)\n",
        "        y = [self.w_vals[i] for i in indices]\n",
        "        x = [i for i in range(len(y))]\n",
        "\n",
        "        # Plot how the final layer singular value changes over time\n",
        "        plt.scatter([x[0]], [y[0]], color='red')\n",
        "        plt.scatter([x[-1]], [y[-1]], color='green')\n",
        "        plt.plot(x, y)\n",
        "        plt.show()\n",
        "\n",
        "    def plot_final_weights(self):\n",
        "        # flatten the final weights into a 1D array\n",
        "        final_weights = self.final_weights.ravel()\n",
        "        x = [i for i in range(final_weights.shape[0])]\n",
        "        plt.bar(x, final_weights)\n",
        "        plt.show()\n",
        "\n",
        "class Scheduler():\n",
        "    def __init__(self):\n",
        "        pass\n",
        "\n",
        "    def __call__(self):\n",
        "        pass\n",
        "\n",
        "    def plot_lr(self):\n",
        "        x = np.linspace(0, self.total_steps, 500, dtype=int)\n",
        "        y = [self(i) for i in x]\n",
        "        plt.plot(x, y)\n",
        "        plt.show()"
      ],
      "metadata": {
        "id": "VEAJDs_DlKr8"
      },
      "execution_count": 9,
      "outputs": []
    },
    {
      "cell_type": "code",
      "source": [
        "# Now,building the SGD optimizer\n",
        "\n",
        "class SGD(Optimizer):\n",
        "  def __init__(self,lr):\n",
        "    self.lr=lr\n",
        "    super().__init__()\n",
        "\n",
        "  def __call__(self,layer_grads,layers,batch_size,step):\n",
        "    for layer_grad, layer in zip(layer_grads,reversed(layers)):\n",
        "      w_grad,b_grad=layer_grad\n",
        "\n",
        "      # Normalize the weight gradient by batch size (bias gradient is already normalized)\n",
        "      w_grad/=batch_size\n",
        "\n",
        "      # Calculating the new weights\n",
        "      w_update= -self.lr * w_grad\n",
        "      b_update= -self.lr * b_grad\n",
        "\n",
        "      layer.update(w_update,b_update)\n",
        "\n",
        "\n",
        "    # Saving only for the first layers (weight and singular values) -- will generate a graph later on\n",
        "\n",
        "    self.save_vector(layers)\n",
        "\n"
      ],
      "metadata": {
        "id": "mFssdraAlzys"
      },
      "execution_count": 10,
      "outputs": []
    },
    {
      "cell_type": "code",
      "source": [
        "!pip install wandb -qU\n",
        "import wandb\n",
        "wandb.login()\n"
      ],
      "metadata": {
        "colab": {
          "base_uri": "https://localhost:8080/",
          "height": 139
        },
        "id": "O7235tSESCiL",
        "outputId": "848f88d5-ba6c-484f-ec44-98cec7ee16d2"
      },
      "execution_count": 11,
      "outputs": [
        {
          "output_type": "stream",
          "name": "stdout",
          "text": [
            "\u001b[2K     \u001b[90m━━━━━━━━━━━━━━━━━━━━━━━━━━━━━━━━━━━━━━━━\u001b[0m \u001b[32m2.1/2.1 MB\u001b[0m \u001b[31m16.7 MB/s\u001b[0m eta \u001b[36m0:00:00\u001b[0m\n",
            "\u001b[2K     \u001b[90m━━━━━━━━━━━━━━━━━━━━━━━━━━━━━━━━━━━━━━━━\u001b[0m \u001b[32m190.6/190.6 kB\u001b[0m \u001b[31m23.7 MB/s\u001b[0m eta \u001b[36m0:00:00\u001b[0m\n",
            "\u001b[2K     \u001b[90m━━━━━━━━━━━━━━━━━━━━━━━━━━━━━━━━━━━━━━━━\u001b[0m \u001b[32m254.1/254.1 kB\u001b[0m \u001b[31m18.8 MB/s\u001b[0m eta \u001b[36m0:00:00\u001b[0m\n",
            "\u001b[2K     \u001b[90m━━━━━━━━━━━━━━━━━━━━━━━━━━━━━━━━━━━━━━━━\u001b[0m \u001b[32m62.7/62.7 kB\u001b[0m \u001b[31m11.1 MB/s\u001b[0m eta \u001b[36m0:00:00\u001b[0m\n",
            "\u001b[?25h"
          ]
        },
        {
          "output_type": "display_data",
          "data": {
            "text/plain": [
              "<IPython.core.display.Javascript object>"
            ],
            "application/javascript": [
              "\n",
              "        window._wandbApiKey = new Promise((resolve, reject) => {\n",
              "            function loadScript(url) {\n",
              "            return new Promise(function(resolve, reject) {\n",
              "                let newScript = document.createElement(\"script\");\n",
              "                newScript.onerror = reject;\n",
              "                newScript.onload = resolve;\n",
              "                document.body.appendChild(newScript);\n",
              "                newScript.src = url;\n",
              "            });\n",
              "            }\n",
              "            loadScript(\"https://cdn.jsdelivr.net/npm/postmate/build/postmate.min.js\").then(() => {\n",
              "            const iframe = document.createElement('iframe')\n",
              "            iframe.style.cssText = \"width:0;height:0;border:none\"\n",
              "            document.body.appendChild(iframe)\n",
              "            const handshake = new Postmate({\n",
              "                container: iframe,\n",
              "                url: 'https://wandb.ai/authorize'\n",
              "            });\n",
              "            const timeout = setTimeout(() => reject(\"Couldn't auto authenticate\"), 5000)\n",
              "            handshake.then(function(child) {\n",
              "                child.on('authorize', data => {\n",
              "                    clearTimeout(timeout)\n",
              "                    resolve(data)\n",
              "                });\n",
              "            });\n",
              "            })\n",
              "        });\n",
              "    "
            ]
          },
          "metadata": {}
        },
        {
          "output_type": "stream",
          "name": "stderr",
          "text": [
            "\u001b[34m\u001b[1mwandb\u001b[0m: Appending key for api.wandb.ai to your netrc file: /root/.netrc\n"
          ]
        },
        {
          "output_type": "execute_result",
          "data": {
            "text/plain": [
              "True"
            ]
          },
          "metadata": {},
          "execution_count": 11
        }
      ]
    },
    {
      "cell_type": "code",
      "source": [
        "import time\n",
        "%env WANDB_SILENT=False\n",
        "def training_run(epochs, batch_size, optimizer, train_data, valid_data, name=None):\n",
        "    # Initialize a new W&B run, with the right parameters\n",
        "    wandb.init(project=\"optimizers\",\n",
        "               name=name,\n",
        "               config={\"batch_size\": batch_size,\n",
        "                       \"lr\": optimizer.lr,\n",
        "                       \"epochs\": epochs,\n",
        "                       \"optimizer\": type(optimizer).__name__})\n",
        "\n",
        "    # Setup the metrics we want to track with wandb.  You usually don't need to do this, but we want a custom axis for each metric.\n",
        "    wandb.define_metric(\"batch_step\") # This will ensure that results from runs with different batch sizes line up\n",
        "    wandb.define_metric(\"epoch\") # This will ensure that results from runs with different batch sizes line up\n",
        "    wandb.define_metric(\"valid_loss\", step_metric=\"epoch\") # The step metric is the x-axis scale\n",
        "    wandb.define_metric(\"train_loss\", step_metric=\"epoch\")\n",
        "    wandb.define_metric(\"runtime\", step_metric=\"epoch\")\n",
        "    wandb.define_metric(\"running_loss\", step_metric=\"batch_step\")\n",
        "\n",
        "    # Setup the layers for the training run\n",
        "    layers = [\n",
        "        Dense(7, 25),\n",
        "        Dense(25,10),\n",
        "        Dense(10, 1, activation=False)\n",
        "    ]\n",
        "\n",
        "    # Split the training and valid data into x and y\n",
        "    train_x, train_y = train_data\n",
        "    valid_x, valid_y = valid_data\n",
        "\n",
        "    for epoch in range(epochs):\n",
        "        running_loss = 0\n",
        "        start = time.time() # The start time of our run\n",
        "\n",
        "        for i in range(0, len(train_x), batch_size):\n",
        "            # Get the x and y batches\n",
        "            x_batch = train_x[i:(i+batch_size)]\n",
        "            y_batch = train_y[i:(i+batch_size)]\n",
        "            # Make a prediction\n",
        "            pred = forward(x_batch, layers)\n",
        "\n",
        "            # Run the backward pass\n",
        "            loss = pred - y_batch\n",
        "            layer_grads = backward(loss, layers)\n",
        "\n",
        "            # Run the optimizer\n",
        "            step_count = (i + batch_size) // batch_size + epoch * len(train_x) // batch_size\n",
        "            optimizer(layer_grads, layers, batch_size, step_count)\n",
        "\n",
        "            # Update running loss\n",
        "            running_loss += np.mean(loss ** 2)\n",
        "\n",
        "            batch_idx = i + batch_size # Get the last index of the current batch\n",
        "            batch_step = batch_idx + epoch * len(train_x)\n",
        "            # Log running loss.  We multiply by batch size to offset the mean from earlier.\n",
        "            wandb.log({\"running_loss\": running_loss / batch_idx * batch_size, \"batch_step\": batch_step})\n",
        "\n",
        "        # Calculate and log validation loss\n",
        "        valid_preds = forward(valid_x, layers)\n",
        "        valid_loss = np.mean((valid_preds - valid_y) ** 2)\n",
        "        train_loss = running_loss / len(train_x) * batch_size\n",
        "        wandb.log({\n",
        "            \"valid_loss\": valid_loss,\n",
        "            \"epoch\": epoch,\n",
        "            \"train_loss\": train_loss,\n",
        "            \"runtime\": time.time() - start\n",
        "        })\n",
        "\n",
        "    # Mark the run as complete\n",
        "    wandb.finish()\n"
      ],
      "metadata": {
        "colab": {
          "base_uri": "https://localhost:8080/"
        },
        "id": "Bi4AXEUfSrdF",
        "outputId": "f90121c9-2881-4975-e56f-d8b65e404547"
      },
      "execution_count": 12,
      "outputs": [
        {
          "output_type": "stream",
          "name": "stdout",
          "text": [
            "env: WANDB_SILENT=False\n"
          ]
        }
      ]
    },
    {
      "cell_type": "code",
      "source": [
        "# Setup our parameters\n",
        "epochs = 10\n",
        "batch_size = 4\n",
        "lr = 1e-4\n",
        "\n",
        "# Run our training loop\n",
        "sgd = SGD(lr=lr)\n",
        "training_run(epochs, batch_size, sgd, train_data, valid_data, name=\"sgd_small\")\n",
        "\n",
        "# Plot the path of the weights over time.\n",
        "sgd.plot_path()\n",
        "\n",
        "# Below is the plot of the singular value of the final layer weight over time. Showing the need of a dynamic learning rate\n"
      ],
      "metadata": {
        "colab": {
          "base_uri": "https://localhost:8080/",
          "height": 829,
          "referenced_widgets": [
            "012bc0fa52a745ab995a1bc21b920f39",
            "9982ab311cac4df192f84e7b23e06857",
            "e2b94658cf054519b9a7f82eede148a7",
            "6bff013a265746588121345929cedcfb",
            "95c5662e06c0454888321688c7258cea",
            "08d03a7a1d2a43ff93e78e1f89ba8fb4",
            "e236f10f1d0e4d119d6a2614f51cc32d",
            "434858d6868d4219ab3b978f540a31c2"
          ]
        },
        "id": "BaeVs8psZhyH",
        "outputId": "c4edfe06-5475-4b46-bff3-bb887a6ff304"
      },
      "execution_count": 13,
      "outputs": [
        {
          "output_type": "display_data",
          "data": {
            "text/plain": [
              "<IPython.core.display.HTML object>"
            ],
            "text/html": [
              "Changes to your `wandb` environment variables will be ignored because your `wandb` session has already started. For more information on how to modify your settings with `wandb.init()` arguments, please refer to <a href='https://wandb.me/wandb-init' target=\"_blank\">the W&B docs</a>."
            ]
          },
          "metadata": {}
        },
        {
          "output_type": "stream",
          "name": "stderr",
          "text": [
            "\u001b[34m\u001b[1mwandb\u001b[0m: Currently logged in as: \u001b[33mmail-shubhamagarwal\u001b[0m (\u001b[33mteam_shub\u001b[0m). Use \u001b[1m`wandb login --relogin`\u001b[0m to force relogin\n"
          ]
        },
        {
          "output_type": "display_data",
          "data": {
            "text/plain": [
              "<IPython.core.display.HTML object>"
            ],
            "text/html": [
              "Tracking run with wandb version 0.16.1"
            ]
          },
          "metadata": {}
        },
        {
          "output_type": "display_data",
          "data": {
            "text/plain": [
              "<IPython.core.display.HTML object>"
            ],
            "text/html": [
              "Run data is saved locally in <code>/content/Optimizers_DLS/data/wandb/run-20240107_045456-fip0lffx</code>"
            ]
          },
          "metadata": {}
        },
        {
          "output_type": "display_data",
          "data": {
            "text/plain": [
              "<IPython.core.display.HTML object>"
            ],
            "text/html": [
              "Syncing run <strong><a href='https://wandb.ai/team_shub/optimizers/runs/fip0lffx' target=\"_blank\">sgd_small</a></strong> to <a href='https://wandb.ai/team_shub/optimizers' target=\"_blank\">Weights & Biases</a> (<a href='https://wandb.me/run' target=\"_blank\">docs</a>)<br/>"
            ]
          },
          "metadata": {}
        },
        {
          "output_type": "display_data",
          "data": {
            "text/plain": [
              "<IPython.core.display.HTML object>"
            ],
            "text/html": [
              " View project at <a href='https://wandb.ai/team_shub/optimizers' target=\"_blank\">https://wandb.ai/team_shub/optimizers</a>"
            ]
          },
          "metadata": {}
        },
        {
          "output_type": "display_data",
          "data": {
            "text/plain": [
              "<IPython.core.display.HTML object>"
            ],
            "text/html": [
              " View run at <a href='https://wandb.ai/team_shub/optimizers/runs/fip0lffx' target=\"_blank\">https://wandb.ai/team_shub/optimizers/runs/fip0lffx</a>"
            ]
          },
          "metadata": {}
        },
        {
          "output_type": "display_data",
          "data": {
            "text/plain": [
              "VBox(children=(Label(value='0.001 MB of 0.001 MB uploaded\\r'), FloatProgress(value=1.0, max=1.0)))"
            ],
            "application/vnd.jupyter.widget-view+json": {
              "version_major": 2,
              "version_minor": 0,
              "model_id": "012bc0fa52a745ab995a1bc21b920f39"
            }
          },
          "metadata": {}
        },
        {
          "output_type": "display_data",
          "data": {
            "text/plain": [
              "<IPython.core.display.HTML object>"
            ],
            "text/html": [
              "<style>\n",
              "    table.wandb td:nth-child(1) { padding: 0 10px; text-align: left ; width: auto;} td:nth-child(2) {text-align: left ; width: 100%}\n",
              "    .wandb-row { display: flex; flex-direction: row; flex-wrap: wrap; justify-content: flex-start; width: 100% }\n",
              "    .wandb-col { display: flex; flex-direction: column; flex-basis: 100%; flex: 1; padding: 10px; }\n",
              "    </style>\n",
              "<div class=\"wandb-row\"><div class=\"wandb-col\"><h3>Run history:</h3><br/><table class=\"wandb\"><tr><td>batch_step</td><td>▁▁▁▂▂▂▂▂▂▃▃▃▃▃▄▄▄▄▄▄▅▅▅▅▅▅▆▆▆▆▆▇▇▇▇▇▇███</td></tr><tr><td>epoch</td><td>▁▂▃▃▄▅▆▆▇█</td></tr><tr><td>running_loss</td><td>█▄▄▆▄▂▂▃▁▂▁▂▁▂▂▂▁▂▁▁▁▂▁▁▁▁▁▁▁▁▁▁▁▁▁▁▁▁▁▁</td></tr><tr><td>runtime</td><td>▄▄▁▁▂▄▂█▃▁</td></tr><tr><td>train_loss</td><td>█▃▂▂▂▁▁▁▁▁</td></tr><tr><td>valid_loss</td><td>█▄▂▂▂▁▁▁▁▁</td></tr></table><br/></div><div class=\"wandb-col\"><h3>Run summary:</h3><br/><table class=\"wandb\"><tr><td>batch_step</td><td>5053</td></tr><tr><td>epoch</td><td>9</td></tr><tr><td>running_loss</td><td>15.14806</td></tr><tr><td>runtime</td><td>0.15734</td></tr><tr><td>train_loss</td><td>15.23805</td></tr><tr><td>valid_loss</td><td>13.53879</td></tr></table><br/></div></div>"
            ]
          },
          "metadata": {}
        },
        {
          "output_type": "display_data",
          "data": {
            "text/plain": [
              "<IPython.core.display.HTML object>"
            ],
            "text/html": [
              " View run <strong style=\"color:#cdcd00\">sgd_small</strong> at: <a href='https://wandb.ai/team_shub/optimizers/runs/fip0lffx' target=\"_blank\">https://wandb.ai/team_shub/optimizers/runs/fip0lffx</a><br/>Synced 4 W&B file(s), 0 media file(s), 0 artifact file(s) and 0 other file(s)"
            ]
          },
          "metadata": {}
        },
        {
          "output_type": "display_data",
          "data": {
            "text/plain": [
              "<IPython.core.display.HTML object>"
            ],
            "text/html": [
              "Find logs at: <code>./wandb/run-20240107_045456-fip0lffx/logs</code>"
            ]
          },
          "metadata": {}
        },
        {
          "output_type": "display_data",
          "data": {
            "text/plain": [
              "<Figure size 640x480 with 1 Axes>"
            ],
            "image/png": "[encoded data removed]"
          },
          "metadata": {}
        }
      ]
    },
    {
      "cell_type": "code",
      "source": [
        "# Setup our parameters\n",
        "epochs = 40 # higher number of epochs so total steps are equal for comparison purposes\n",
        "batch_size = 16\n",
        "lr = 1e-4\n",
        "\n",
        "# Run our training loop\n",
        "sgd = SGD(lr=lr)\n",
        "training_run(epochs, batch_size, sgd, train_data, valid_data, name=\"sgd_large\")\n",
        "sgd.plot_path()"
      ],
      "metadata": {
        "colab": {
          "base_uri": "https://localhost:8080/",
          "height": 812,
          "referenced_widgets": [
            "3b64862ae080431689327d4841f13abc",
            "f723df6bd833428b96a7a7adbc104de1",
            "56118b109f734939867bce00e73a7ea9",
            "b69ba28fe5c44150951a83df3e58d2ce",
            "8eea110bec57489b9b24dd13adadc91f",
            "2869807cf1fa49669f8c8378f3c9ac55",
            "9836d4df72bc46bf8c20bb0c92cb4206",
            "54fb8b8a2d0c4ee58f7ca4ceb961ff7e"
          ]
        },
        "id": "2Qx9bs-EZj_G",
        "outputId": "27a1e412-0b8a-4e57-8af5-92d884de2b8d"
      },
      "execution_count": 14,
      "outputs": [
        {
          "output_type": "display_data",
          "data": {
            "text/plain": [
              "<IPython.core.display.HTML object>"
            ],
            "text/html": [
              "Changes to your `wandb` environment variables will be ignored because your `wandb` session has already started. For more information on how to modify your settings with `wandb.init()` arguments, please refer to <a href='https://wandb.me/wandb-init' target=\"_blank\">the W&B docs</a>."
            ]
          },
          "metadata": {}
        },
        {
          "output_type": "display_data",
          "data": {
            "text/plain": [
              "<IPython.core.display.HTML object>"
            ],
            "text/html": [
              "Tracking run with wandb version 0.16.1"
            ]
          },
          "metadata": {}
        },
        {
          "output_type": "display_data",
          "data": {
            "text/plain": [
              "<IPython.core.display.HTML object>"
            ],
            "text/html": [
              "Run data is saved locally in <code>/content/Optimizers_DLS/data/wandb/run-20240107_045514-ler0ngkw</code>"
            ]
          },
          "metadata": {}
        },
        {
          "output_type": "display_data",
          "data": {
            "text/plain": [
              "<IPython.core.display.HTML object>"
            ],
            "text/html": [
              "Syncing run <strong><a href='https://wandb.ai/team_shub/optimizers/runs/ler0ngkw' target=\"_blank\">sgd_large</a></strong> to <a href='https://wandb.ai/team_shub/optimizers' target=\"_blank\">Weights & Biases</a> (<a href='https://wandb.me/run' target=\"_blank\">docs</a>)<br/>"
            ]
          },
          "metadata": {}
        },
        {
          "output_type": "display_data",
          "data": {
            "text/plain": [
              "<IPython.core.display.HTML object>"
            ],
            "text/html": [
              " View project at <a href='https://wandb.ai/team_shub/optimizers' target=\"_blank\">https://wandb.ai/team_shub/optimizers</a>"
            ]
          },
          "metadata": {}
        },
        {
          "output_type": "display_data",
          "data": {
            "text/plain": [
              "<IPython.core.display.HTML object>"
            ],
            "text/html": [
              " View run at <a href='https://wandb.ai/team_shub/optimizers/runs/ler0ngkw' target=\"_blank\">https://wandb.ai/team_shub/optimizers/runs/ler0ngkw</a>"
            ]
          },
          "metadata": {}
        },
        {
          "output_type": "display_data",
          "data": {
            "text/plain": [
              "VBox(children=(Label(value='0.001 MB of 0.001 MB uploaded\\r'), FloatProgress(value=1.0, max=1.0)))"
            ],
            "application/vnd.jupyter.widget-view+json": {
              "version_major": 2,
              "version_minor": 0,
              "model_id": "3b64862ae080431689327d4841f13abc"
            }
          },
          "metadata": {}
        },
        {
          "output_type": "display_data",
          "data": {
            "text/plain": [
              "<IPython.core.display.HTML object>"
            ],
            "text/html": [
              "<style>\n",
              "    table.wandb td:nth-child(1) { padding: 0 10px; text-align: left ; width: auto;} td:nth-child(2) {text-align: left ; width: 100%}\n",
              "    .wandb-row { display: flex; flex-direction: row; flex-wrap: wrap; justify-content: flex-start; width: 100% }\n",
              "    .wandb-col { display: flex; flex-direction: column; flex-basis: 100%; flex: 1; padding: 10px; }\n",
              "    </style>\n",
              "<div class=\"wandb-row\"><div class=\"wandb-col\"><h3>Run history:</h3><br/><table class=\"wandb\"><tr><td>batch_step</td><td>▁▁▁▂▂▂▂▂▂▃▃▃▃▃▃▄▄▄▄▄▅▅▅▅▅▅▆▆▆▆▆▆▇▇▇▇▇███</td></tr><tr><td>epoch</td><td>▁▁▁▂▂▂▂▂▂▃▃▃▃▃▄▄▄▄▄▄▅▅▅▅▅▅▆▆▆▆▆▇▇▇▇▇▇███</td></tr><tr><td>running_loss</td><td>█▇▆▅▃▂▂▂▂▂▂▂▂▂▂▂▂▂▂▂▂▂▂▂▂▂▂▂▂▂▂▂▂▁▁▁▁▁▁▁</td></tr><tr><td>runtime</td><td>▂▆▇▂▂▄█▆▅▅▃▁▁▁▁▁▂▂▂▂▂▂▁▂▂▂▂▂▂▂▁▁▂▂▁▃▂▂▁▂</td></tr><tr><td>train_loss</td><td>█▇▆▅▄▃▃▂▂▂▂▂▂▂▂▂▂▂▂▁▁▁▁▁▁▁▁▁▁▁▁▁▁▁▁▁▁▁▁▁</td></tr><tr><td>valid_loss</td><td>█▇▇▆▅▅▄▃▃▃▃▂▂▂▂▂▂▂▂▂▂▂▂▁▁▁▁▁▁▁▁▁▁▁▁▁▁▁▁▁</td></tr></table><br/></div><div class=\"wandb-col\"><h3>Run summary:</h3><br/><table class=\"wandb\"><tr><td>batch_step</td><td>20207</td></tr><tr><td>epoch</td><td>39</td></tr><tr><td>running_loss</td><td>13.94768</td></tr><tr><td>runtime</td><td>0.02389</td></tr><tr><td>train_loss</td><td>14.14102</td></tr><tr><td>valid_loss</td><td>16.68178</td></tr></table><br/></div></div>"
            ]
          },
          "metadata": {}
        },
        {
          "output_type": "display_data",
          "data": {
            "text/plain": [
              "<IPython.core.display.HTML object>"
            ],
            "text/html": [
              " View run <strong style=\"color:#cdcd00\">sgd_large</strong> at: <a href='https://wandb.ai/team_shub/optimizers/runs/ler0ngkw' target=\"_blank\">https://wandb.ai/team_shub/optimizers/runs/ler0ngkw</a><br/>Synced 4 W&B file(s), 0 media file(s), 0 artifact file(s) and 0 other file(s)"
            ]
          },
          "metadata": {}
        },
        {
          "output_type": "display_data",
          "data": {
            "text/plain": [
              "<IPython.core.display.HTML object>"
            ],
            "text/html": [
              "Find logs at: <code>./wandb/run-20240107_045514-ler0ngkw/logs</code>"
            ]
          },
          "metadata": {}
        },
        {
          "output_type": "display_data",
          "data": {
            "text/plain": [
              "<Figure size 640x480 with 1 Axes>"
            ],
            "image/png": "[encoded data removed]"
          },
          "metadata": {}
        }
      ]
    },
    {
      "cell_type": "code",
      "source": [
        "# Now using momentum for gradient descent\n",
        "\n",
        "class SGDMomentum(Optimizer):\n",
        "  def __init__(self,lr, beta): # Have a new hyperparameter called beta (decay term)\n",
        "    self.lr=lr\n",
        "    self.beta=beta\n",
        "    # Making another matrix momentum\n",
        "    self.momentums=None\n",
        "    super().__init__()\n",
        "\n",
        "  def initialize_momentums(self,layer_grads):\n",
        "    self.momentums=[]\n",
        "\n",
        "    # Initialize momentums to have the same shape as their parameters for each layer\n",
        "\n",
        "    for layer_grad in layer_grads:\n",
        "      w_grad,b_grad=layer_grad\n",
        "      initial_momentums=[np.zeros_like(w_grad),np.zeros_like(b_grad)]\n",
        "      self.momentums.append(initial_momentums)\n",
        "\n",
        "  # Defining the call function now\n",
        "\n",
        "  def __call__(self,layer_grads,layers,batch_size,step):\n",
        "\n",
        "    if self.momentums is None:\n",
        "      self.initialize_momentums(layer_grads)\n",
        "\n",
        "    new_momentums=[]\n",
        "\n",
        "    for layer_grad, layer, momentum in zip(layer_grads,reversed(layers),self.momentums):\n",
        "      w_grad,b_grad=layer_grad\n",
        "      w_vel, b_vel = momentum\n",
        "\n",
        "      # Normalize the weight gradient by batch size (bias gradient is already normalized)\n",
        "      w_grad/=batch_size\n",
        "\n",
        "      # Calculating the new weights\n",
        "      w_vel= w_vel * self.beta  -self.lr * w_grad\n",
        "      b_vel= b_vel * self.beta -self.lr * b_grad\n",
        "\n",
        "      layer.update(w_vel,b_vel)\n",
        "      new_momentums.append([w_vel, b_vel])\n",
        "\n",
        "\n",
        "\n",
        "    # Saving only for the first layers (weight and singular values) -- will generate a graph later on\n",
        "    self.momentums=new_momentums\n",
        "    self.save_vector(layers)\n",
        "\n"
      ],
      "metadata": {
        "id": "zGt35UJ7e2mt"
      },
      "execution_count": 13,
      "outputs": []
    },
    {
      "cell_type": "code",
      "source": [
        "# Setup our parameters\n",
        "epochs = 40\n",
        "batch_size = 16\n",
        "lr = 1e-4\n",
        "beta = .9\n",
        "\n",
        "# Run our training loop\n",
        "sgd = SGDMomentum(lr, beta)\n",
        "training_run(epochs, batch_size, sgd, train_data, valid_data, name=\"sgd_momentum\")\n",
        "sgd.plot_path()"
      ],
      "metadata": {
        "colab": {
          "base_uri": "https://localhost:8080/",
          "height": 812,
          "referenced_widgets": [
            "34ae0d5d56c84a54a83f22fb9ebe0cc5",
            "4942a5d0b6c841939edc01bf7279a024",
            "329395ff90d541e6bbda35ae2786307a",
            "43b8845acaa74c579b34f6dab5994ed2",
            "1112d2ca47574d2cae317e26bc7367a2",
            "c39577def29349adbdab7f2f02e812cd",
            "e8207f6e1cf84f3292315418449462ee",
            "9440a64ada294077acc8ed4b51ef3005"
          ]
        },
        "id": "Nq2DaW6QaYZh",
        "outputId": "4e14f2ca-1160-44d0-94db-5b06956a9af6"
      },
      "execution_count": 17,
      "outputs": [
        {
          "output_type": "display_data",
          "data": {
            "text/plain": [
              "<IPython.core.display.HTML object>"
            ],
            "text/html": [
              "Changes to your `wandb` environment variables will be ignored because your `wandb` session has already started. For more information on how to modify your settings with `wandb.init()` arguments, please refer to <a href='https://wandb.me/wandb-init' target=\"_blank\">the W&B docs</a>."
            ]
          },
          "metadata": {}
        },
        {
          "output_type": "display_data",
          "data": {
            "text/plain": [
              "<IPython.core.display.HTML object>"
            ],
            "text/html": [
              "Tracking run with wandb version 0.16.1"
            ]
          },
          "metadata": {}
        },
        {
          "output_type": "display_data",
          "data": {
            "text/plain": [
              "<IPython.core.display.HTML object>"
            ],
            "text/html": [
              "Run data is saved locally in <code>/content/Optimizers_DLS/data/wandb/run-20240107_053442-qxp7ybgs</code>"
            ]
          },
          "metadata": {}
        },
        {
          "output_type": "display_data",
          "data": {
            "text/plain": [
              "<IPython.core.display.HTML object>"
            ],
            "text/html": [
              "Syncing run <strong><a href='https://wandb.ai/team_shub/optimizers/runs/qxp7ybgs' target=\"_blank\">sgd_momentum</a></strong> to <a href='https://wandb.ai/team_shub/optimizers' target=\"_blank\">Weights & Biases</a> (<a href='https://wandb.me/run' target=\"_blank\">docs</a>)<br/>"
            ]
          },
          "metadata": {}
        },
        {
          "output_type": "display_data",
          "data": {
            "text/plain": [
              "<IPython.core.display.HTML object>"
            ],
            "text/html": [
              " View project at <a href='https://wandb.ai/team_shub/optimizers' target=\"_blank\">https://wandb.ai/team_shub/optimizers</a>"
            ]
          },
          "metadata": {}
        },
        {
          "output_type": "display_data",
          "data": {
            "text/plain": [
              "<IPython.core.display.HTML object>"
            ],
            "text/html": [
              " View run at <a href='https://wandb.ai/team_shub/optimizers/runs/qxp7ybgs' target=\"_blank\">https://wandb.ai/team_shub/optimizers/runs/qxp7ybgs</a>"
            ]
          },
          "metadata": {}
        },
        {
          "output_type": "display_data",
          "data": {
            "text/plain": [
              "VBox(children=(Label(value='0.001 MB of 0.001 MB uploaded\\r'), FloatProgress(value=1.0, max=1.0)))"
            ],
            "application/vnd.jupyter.widget-view+json": {
              "version_major": 2,
              "version_minor": 0,
              "model_id": "34ae0d5d56c84a54a83f22fb9ebe0cc5"
            }
          },
          "metadata": {}
        },
        {
          "output_type": "display_data",
          "data": {
            "text/plain": [
              "<IPython.core.display.HTML object>"
            ],
            "text/html": [
              "<style>\n",
              "    table.wandb td:nth-child(1) { padding: 0 10px; text-align: left ; width: auto;} td:nth-child(2) {text-align: left ; width: 100%}\n",
              "    .wandb-row { display: flex; flex-direction: row; flex-wrap: wrap; justify-content: flex-start; width: 100% }\n",
              "    .wandb-col { display: flex; flex-direction: column; flex-basis: 100%; flex: 1; padding: 10px; }\n",
              "    </style>\n",
              "<div class=\"wandb-row\"><div class=\"wandb-col\"><h3>Run history:</h3><br/><table class=\"wandb\"><tr><td>batch_step</td><td>▁▁▁▂▂▂▂▂▂▃▃▃▃▃▃▄▄▄▄▄▅▅▅▅▅▅▆▆▆▆▆▆▇▇▇▇▇███</td></tr><tr><td>epoch</td><td>▁▁▁▂▂▂▂▂▂▃▃▃▃▃▄▄▄▄▄▄▅▅▅▅▅▅▆▆▆▆▆▇▇▇▇▇▇███</td></tr><tr><td>running_loss</td><td>█▄▄▂▂▁▁▁▁▁▁▁▁▁▁▁▁▁▁▁▁▁▁▁▁▁▁▁▁▁▁▁▁▁▁▁▁▁▁▁</td></tr><tr><td>runtime</td><td>▂▁▂▄█▇▇█▆▃▆▅▁▂▂▁▂▁▁▁▂▂▂▂▁▂▂▃▂▂▂▂▂▂▂▂▂▂▂▂</td></tr><tr><td>train_loss</td><td>█▃▂▁▁▁▁▁▁▁▁▁▁▁▁▁▁▁▁▁▁▁▁▁▁▁▁▁▁▁▁▁▁▁▁▁▁▁▁▁</td></tr><tr><td>valid_loss</td><td>█▃▂▁▁▁▁▁▁▁▁▁▁▁▁▁▁▁▁▁▁▁▁▁▁▁▁▁▁▁▁▁▁▁▁▁▁▁▁▁</td></tr></table><br/></div><div class=\"wandb-col\"><h3>Run summary:</h3><br/><table class=\"wandb\"><tr><td>batch_step</td><td>20207</td></tr><tr><td>epoch</td><td>39</td></tr><tr><td>running_loss</td><td>8.02257</td></tr><tr><td>runtime</td><td>0.02413</td></tr><tr><td>train_loss</td><td>8.13377</td></tr><tr><td>valid_loss</td><td>7.4147</td></tr></table><br/></div></div>"
            ]
          },
          "metadata": {}
        },
        {
          "output_type": "display_data",
          "data": {
            "text/plain": [
              "<IPython.core.display.HTML object>"
            ],
            "text/html": [
              " View run <strong style=\"color:#cdcd00\">sgd_momentum</strong> at: <a href='https://wandb.ai/team_shub/optimizers/runs/qxp7ybgs' target=\"_blank\">https://wandb.ai/team_shub/optimizers/runs/qxp7ybgs</a><br/>Synced 4 W&B file(s), 0 media file(s), 0 artifact file(s) and 0 other file(s)"
            ]
          },
          "metadata": {}
        },
        {
          "output_type": "display_data",
          "data": {
            "text/plain": [
              "<IPython.core.display.HTML object>"
            ],
            "text/html": [
              "Find logs at: <code>./wandb/run-20240107_053442-qxp7ybgs/logs</code>"
            ]
          },
          "metadata": {}
        },
        {
          "output_type": "display_data",
          "data": {
            "text/plain": [
              "<Figure size 640x480 with 1 Axes>"
            ],
            "image/png": "[encoded data removed]"
          },
          "metadata": {}
        }
      ]
    },
    {
      "cell_type": "code",
      "source": [
        "# Adam optimizer\n",
        "\n",
        "from copy import deepcopy\n",
        "\n",
        "class Adam(Optimizer):\n",
        "    def __init__(self, lr, beta1, beta2, eps, decay):\n",
        "        # Track hyperparameters\n",
        "        self.lr = lr\n",
        "        self.beta1 = beta1\n",
        "        self.beta2 = beta2\n",
        "        self.eps = eps\n",
        "        self.decay = decay\n",
        "\n",
        "        # Track first and secone moment\n",
        "        self.moments = None\n",
        "\n",
        "        super().__init__()\n",
        "\n",
        "    def initialize_moments(self, layer_grads):\n",
        "        self.moments = []\n",
        "        for layer_grad in layer_grads:\n",
        "            w_grad, b_grad = layer_grad\n",
        "            # Initialize arrays to hold first moment values\n",
        "            moment1 = [np.zeros_like(w_grad), np.zeros_like(b_grad)]\n",
        "            moment2 = deepcopy(moment1)\n",
        "            self.moments.append([moment1, moment2])\n",
        "\n",
        "    def __call__(self, layer_grads, layers, batch_size, step):\n",
        "        if self.moments is None:\n",
        "            self.initialize_moments(layer_grads)\n",
        "\n",
        "        new_moments = []\n",
        "        for layer_grad, moment, layer in zip(layer_grads, self.moments, reversed(layers)):\n",
        "            w_grad, b_grad = layer_grad\n",
        "            moment1, moment2 = moment\n",
        "\n",
        "            # Normalize the weight gradient by batch size\n",
        "            w_grad /= batch_size\n",
        "\n",
        "            corrected_moments = []\n",
        "            for i, grad in enumerate([w_grad, b_grad]):\n",
        "                # Calculate the first and second moments\n",
        "                moment1[i] = moment1[i] * self.beta1 + (1 - self.beta1) * grad\n",
        "                moment2[i] = moment2[i] * self.beta2 + (1 - self.beta2) * np.square(grad)\n",
        "\n",
        "                # Correct the moments\n",
        "                corrected_moments.append([\n",
        "                    moment1[i] / (1 - self.beta1 ** step),\n",
        "                    moment2[i] / (1 - self.beta2 ** step)\n",
        "                ])\n",
        "\n",
        "            # Calculate the updates\n",
        "            w_update = -self.lr * corrected_moments[0][0] / (corrected_moments[0][1] ** .5 + self.eps)\n",
        "            b_update = -self.lr * corrected_moments[1][0] / (corrected_moments[1][1] ** .5 + self.eps)\n",
        "            layer.update(w_update, b_update)\n",
        "\n",
        "            # Save moments for next iteration\n",
        "            new_moments.append([moment1, moment2])\n",
        "        self.moments = new_moments\n",
        "        self.save_vector(layers)"
      ],
      "metadata": {
        "id": "osyLyql54Lhb"
      },
      "execution_count": 14,
      "outputs": []
    },
    {
      "cell_type": "code",
      "source": [
        "# Setup our parameters\n",
        "epochs = 40\n",
        "batch_size = 16\n",
        "lr = 1e-3\n",
        "\n",
        "# Run our training loop\n",
        "adam = Adam(lr, .9, .999, 1e-8, .1)\n",
        "training_run(epochs, batch_size, adam, train_data, valid_data, name=\"adam\")\n",
        "adam.plot_path()"
      ],
      "metadata": {
        "colab": {
          "base_uri": "https://localhost:8080/",
          "height": 829,
          "referenced_widgets": [
            "4b1582f9e3494c93a0a1a0e29273277d",
            "23b7abce1b8145a393af2884daccabd5",
            "7e04be335eec414faddff3e1b112be11",
            "a326d74b72ab4731af9df498b2e35222",
            "476631bcee074a7691f775f8ee4ffa9a",
            "a105a8e2662e47eb99f3a547562f2cd3",
            "92262375d45f4359830a241ece12409d",
            "4c82a282ac854e22b110157c9ac1cc84"
          ]
        },
        "id": "JdktjpEf49kv",
        "outputId": "0735effb-eb9d-467e-8f5a-04a38c652787"
      },
      "execution_count": 15,
      "outputs": [
        {
          "output_type": "display_data",
          "data": {
            "text/plain": [
              "<IPython.core.display.HTML object>"
            ],
            "text/html": [
              "Changes to your `wandb` environment variables will be ignored because your `wandb` session has already started. For more information on how to modify your settings with `wandb.init()` arguments, please refer to <a href='https://wandb.me/wandb-init' target=\"_blank\">the W&B docs</a>."
            ]
          },
          "metadata": {}
        },
        {
          "output_type": "stream",
          "name": "stderr",
          "text": [
            "\u001b[34m\u001b[1mwandb\u001b[0m: Currently logged in as: \u001b[33mmail-shubhamagarwal\u001b[0m (\u001b[33mteam_shub\u001b[0m). Use \u001b[1m`wandb login --relogin`\u001b[0m to force relogin\n"
          ]
        },
        {
          "output_type": "display_data",
          "data": {
            "text/plain": [
              "<IPython.core.display.HTML object>"
            ],
            "text/html": [
              "Tracking run with wandb version 0.16.1"
            ]
          },
          "metadata": {}
        },
        {
          "output_type": "display_data",
          "data": {
            "text/plain": [
              "<IPython.core.display.HTML object>"
            ],
            "text/html": [
              "Run data is saved locally in <code>/content/Optimizers_DLS/data/wandb/run-20240107_074719-3gbbtaju</code>"
            ]
          },
          "metadata": {}
        },
        {
          "output_type": "display_data",
          "data": {
            "text/plain": [
              "<IPython.core.display.HTML object>"
            ],
            "text/html": [
              "Syncing run <strong><a href='https://wandb.ai/team_shub/optimizers/runs/3gbbtaju' target=\"_blank\">adam</a></strong> to <a href='https://wandb.ai/team_shub/optimizers' target=\"_blank\">Weights & Biases</a> (<a href='https://wandb.me/run' target=\"_blank\">docs</a>)<br/>"
            ]
          },
          "metadata": {}
        },
        {
          "output_type": "display_data",
          "data": {
            "text/plain": [
              "<IPython.core.display.HTML object>"
            ],
            "text/html": [
              " View project at <a href='https://wandb.ai/team_shub/optimizers' target=\"_blank\">https://wandb.ai/team_shub/optimizers</a>"
            ]
          },
          "metadata": {}
        },
        {
          "output_type": "display_data",
          "data": {
            "text/plain": [
              "<IPython.core.display.HTML object>"
            ],
            "text/html": [
              " View run at <a href='https://wandb.ai/team_shub/optimizers/runs/3gbbtaju' target=\"_blank\">https://wandb.ai/team_shub/optimizers/runs/3gbbtaju</a>"
            ]
          },
          "metadata": {}
        },
        {
          "output_type": "display_data",
          "data": {
            "text/plain": [
              "VBox(children=(Label(value='0.001 MB of 0.010 MB uploaded\\r'), FloatProgress(value=0.12468970784800458, max=1.…"
            ],
            "application/vnd.jupyter.widget-view+json": {
              "version_major": 2,
              "version_minor": 0,
              "model_id": "4b1582f9e3494c93a0a1a0e29273277d"
            }
          },
          "metadata": {}
        },
        {
          "output_type": "display_data",
          "data": {
            "text/plain": [
              "<IPython.core.display.HTML object>"
            ],
            "text/html": [
              "<style>\n",
              "    table.wandb td:nth-child(1) { padding: 0 10px; text-align: left ; width: auto;} td:nth-child(2) {text-align: left ; width: 100%}\n",
              "    .wandb-row { display: flex; flex-direction: row; flex-wrap: wrap; justify-content: flex-start; width: 100% }\n",
              "    .wandb-col { display: flex; flex-direction: column; flex-basis: 100%; flex: 1; padding: 10px; }\n",
              "    </style>\n",
              "<div class=\"wandb-row\"><div class=\"wandb-col\"><h3>Run history:</h3><br/><table class=\"wandb\"><tr><td>batch_step</td><td>▁▁▁▂▂▂▂▂▂▃▃▃▃▃▃▄▄▄▄▄▅▅▅▅▅▅▆▆▆▆▆▆▇▇▇▇▇███</td></tr><tr><td>epoch</td><td>▁▁▁▂▂▂▂▂▂▃▃▃▃▃▄▄▄▄▄▄▅▅▅▅▅▅▆▆▆▆▆▇▇▇▇▇▇███</td></tr><tr><td>running_loss</td><td>█▆▅▃▂▃▃▃▂▂▂▂▂▁▁▁▁▁▁▁▁▁▁▁▁▁▁▁▁▁▁▁▁▁▁▁▁▁▁▁</td></tr><tr><td>runtime</td><td>▃▁▃▂▂▂▅▆█▅▃▂▂▂▂▂▃▂▂▃▃▃▃▃▃▃▃▃▃▃▃▅▃▃▃▄▃▃▃▃</td></tr><tr><td>train_loss</td><td>█▇▅▄▃▃▂▂▂▂▁▁▁▁▁▁▁▁▁▁▁▁▁▁▁▁▁▁▁▁▁▁▁▁▁▁▁▁▁▁</td></tr><tr><td>valid_loss</td><td>█▇▆▅▅▄▃▃▂▂▂▁▁▁▁▁▁▁▁▁▁▁▁▁▁▁▁▁▁▁▁▁▁▁▁▁▁▁▁▁</td></tr></table><br/></div><div class=\"wandb-col\"><h3>Run summary:</h3><br/><table class=\"wandb\"><tr><td>batch_step</td><td>20207</td></tr><tr><td>epoch</td><td>39</td></tr><tr><td>running_loss</td><td>8.68908</td></tr><tr><td>runtime</td><td>0.02399</td></tr><tr><td>train_loss</td><td>8.80952</td></tr><tr><td>valid_loss</td><td>6.96124</td></tr></table><br/></div></div>"
            ]
          },
          "metadata": {}
        },
        {
          "output_type": "display_data",
          "data": {
            "text/plain": [
              "<IPython.core.display.HTML object>"
            ],
            "text/html": [
              " View run <strong style=\"color:#cdcd00\">adam</strong> at: <a href='https://wandb.ai/team_shub/optimizers/runs/3gbbtaju' target=\"_blank\">https://wandb.ai/team_shub/optimizers/runs/3gbbtaju</a><br/>Synced 4 W&B file(s), 0 media file(s), 0 artifact file(s) and 0 other file(s)"
            ]
          },
          "metadata": {}
        },
        {
          "output_type": "display_data",
          "data": {
            "text/plain": [
              "<IPython.core.display.HTML object>"
            ],
            "text/html": [
              "Find logs at: <code>./wandb/run-20240107_074719-3gbbtaju/logs</code>"
            ]
          },
          "metadata": {}
        },
        {
          "output_type": "display_data",
          "data": {
            "text/plain": [
              "<Figure size 640x480 with 1 Axes>"
            ],
            "image/png": "[encoded data removed]"
          },
          "metadata": {}
        }
      ]
    }
  ]
}