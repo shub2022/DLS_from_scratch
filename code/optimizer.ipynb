{
  "nbformat": 4,
  "nbformat_minor": 0,
  "metadata": {
    "colab": {
      "provenance": []
    },
    "kernelspec": {
      "name": "python3",
      "display_name": "Python 3"
    },
    "language_info": {
      "name": "python"
    }
  },
  "cells": [
    {
      "cell_type": "code",
      "execution_count": 1,
      "metadata": {
        "id": "yDAlsAj4XV7A",
        "colab": {
          "base_uri": "https://localhost:8080/"
        },
        "outputId": "c1158c40-314b-43e6-acf9-e637a6b2fd6d"
      },
      "outputs": [
        {
          "output_type": "stream",
          "name": "stdout",
          "text": [
            "Cloning into 'Optimizers_DLS'...\n",
            "remote: Enumerating objects: 62, done.\u001b[K\n",
            "remote: Counting objects: 100% (62/62), done.\u001b[K\n",
            "remote: Compressing objects: 100% (55/55), done.\u001b[K\n",
            "remote: Total 62 (delta 12), reused 0 (delta 0), pack-reused 0\u001b[K\n",
            "Receiving objects: 100% (62/62), 16.69 KiB | 5.56 MiB/s, done.\n",
            "Resolving deltas: 100% (12/12), done.\n"
          ]
        }
      ],
      "source": [
        "!git clone https://github.com/shub2022/Optimizers_DLS"
      ]
    },
    {
      "cell_type": "code",
      "source": [
        "ls"
      ],
      "metadata": {
        "colab": {
          "base_uri": "https://localhost:8080/"
        },
        "id": "b_924eFHJBJ6",
        "outputId": "7c5d1cce-4448-4c56-b5be-fa036e24f042"
      },
      "execution_count": 2,
      "outputs": [
        {
          "output_type": "stream",
          "name": "stdout",
          "text": [
            "\u001b[0m\u001b[01;34mOptimizers_DLS\u001b[0m/  \u001b[01;34msample_data\u001b[0m/\n"
          ]
        }
      ]
    },
    {
      "cell_type": "code",
      "source": [
        "%cd Optimizers_DLS/"
      ],
      "metadata": {
        "colab": {
          "base_uri": "https://localhost:8080/"
        },
        "id": "MgRZvbehJC5H",
        "outputId": "fab2c032-548a-48d0-a131-e58d31a6d6c6"
      },
      "execution_count": 3,
      "outputs": [
        {
          "output_type": "stream",
          "name": "stdout",
          "text": [
            "/content/Optimizers_DLS\n"
          ]
        }
      ]
    },
    {
      "cell_type": "code",
      "source": [
        "%cd data/"
      ],
      "metadata": {
        "colab": {
          "base_uri": "https://localhost:8080/"
        },
        "id": "mEZo4YtWJNHD",
        "outputId": "8970185a-bc4f-441a-f81f-a95784f91bf8"
      },
      "execution_count": 4,
      "outputs": [
        {
          "output_type": "stream",
          "name": "stdout",
          "text": [
            "/content/Optimizers_DLS/data\n"
          ]
        }
      ]
    },
    {
      "cell_type": "code",
      "source": [
        "from csv_data import HousePricesDatasetWrapper\n",
        "\n",
        "wrapper = HousePricesDatasetWrapper()\n",
        "train_data, valid_data, test_data = wrapper.get_flat_datasets()"
      ],
      "metadata": {
        "id": "6dFrEksSXXZk",
        "colab": {
          "base_uri": "https://localhost:8080/"
        },
        "outputId": "0f8ec920-c550-41a5-b002-8ce307c4ffab"
      },
      "execution_count": 5,
      "outputs": [
        {
          "output_type": "stream",
          "name": "stdout",
          "text": [
            "/usr/local/lib/python3.10/dist-packages\n",
            "/usr/local/lib/python3.10/dist-packages/house_prices.csv\n"
          ]
        },
        {
          "output_type": "stream",
          "name": "stderr",
          "text": [
            "Downloading...\n",
            "From: https://drive.google.com/uc?export=download&id=1eWeeYlxNatpXQSsiFwQg2HJeYCTJNj9Z\n",
            "To: /usr/local/lib/python3.10/dist-packages/house_prices.csv\n",
            "100%|██████████| 71.2k/71.2k [00:00<00:00, 38.8MB/s]\n"
          ]
        }
      ]
    },
    {
      "cell_type": "code",
      "source": [
        "# Show the train predictors\n",
        "train_data[0][:2]"
      ],
      "metadata": {
        "id": "L_IJAgT8X2t_"
      },
      "execution_count": null,
      "outputs": []
    },
    {
      "cell_type": "code",
      "source": [
        "# Show the train target\n",
        "train_data[1][:2]"
      ],
      "metadata": {
        "id": "Ov7BWEVwYNOi"
      },
      "execution_count": null,
      "outputs": []
    },
    {
      "cell_type": "code",
      "source": [
        "# Defining a class for creating Dense layers\n",
        "import math\n",
        "import numpy as np\n",
        "\n",
        "class Dense():\n",
        "  def __init__(self,input_size,output_size,activation=True,seed=0): # Activation always set as true, set seed as zero for initializing random weight matrices\n",
        "    self.add_activation=activation\n",
        "    self.hidden=None\n",
        "    self.prev_hidden=None # Hidden and previous hidden will be eventually used for creating a \"Fully Connected Dense Neural Network\"\n",
        "    # Will be using ReLu activation function hence using LeCun Normal intializing strategy for weight matrices\n",
        "    np.random.seed(seed)\n",
        "    k=math.sqrt(1/input_size)\n",
        "    self.weights = (k**2) * np.random.randn(input_size,output_size) + 0\n",
        "\n",
        "    # Intializing bias to 1\n",
        "    self.bias=np.ones((1,output_size))\n",
        "\n",
        "  # Defining forward propagation function\n",
        "  def forward(self,x):\n",
        "    self.prev_hidden=x.copy()\n",
        "    x=np.matmul(x,self.weights) + self.bias\n",
        "\n",
        "    if self.add_activation:\n",
        "      x=np.maximum(x,0)\n",
        "\n",
        "    self.hidden=x.copy()\n",
        "    return x\n",
        "\n",
        "  # Defining the backward propagation function\n",
        "  def backward(self,grad): # Grad is the gradient for the current layer\n",
        "    # Undo ing the activation function (ReLu)\n",
        "    if self.add_activation:\n",
        "      grad = np.multiply(grad, np.heaviside(self.hidden, 0))\n",
        "\n",
        "    # Calculating the weight and bias gradient\n",
        "    w_grad=self.prev_hidden.T @ grad\n",
        "    b_grad = np.mean(grad, axis=0)\n",
        "    param_grads = [w_grad, b_grad]\n",
        "\n",
        "    grad= grad @ self.weights.T\n",
        "    return param_grads, grad\n",
        "\n",
        "  # defining function to update the weights based on the gradient\n",
        "\n",
        "  def update(self,w_grad,b_grad):\n",
        "    self.weights += w_grad\n",
        "    self.bias += b_grad\n",
        "\n",
        "\n",
        "\n",
        "\n",
        "\n",
        "\n"
      ],
      "metadata": {
        "id": "GltEhNiHHO8h"
      },
      "execution_count": 17,
      "outputs": []
    },
    {
      "cell_type": "code",
      "source": [
        "# 3 layer neural network - 7 inputs (dimension) making 25 hidden features, second layer makes 10 hidden features and then the last layer gives one output\n",
        "layers = [\n",
        "    Dense(7, 25),\n",
        "    Dense(25, 10),\n",
        "    Dense(10, 1, activation=False)\n",
        "]"
      ],
      "metadata": {
        "id": "cqgZlMGjVnPT"
      },
      "execution_count": 8,
      "outputs": []
    },
    {
      "cell_type": "code",
      "source": [
        "# Now creating a neural network\n",
        "\n",
        "def forward(x, layers):\n",
        "    # Loop through each layer\n",
        "    for layer in layers:\n",
        "        # Run the forward pass\n",
        "        x = layer.forward(x)\n",
        "    return x\n",
        "\n",
        "def backward(grad, layers):\n",
        "    # Save the gradients for each layer\n",
        "    layer_grads = []\n",
        "    # Loop through each layer in reverse order (starting from the output layer)\n",
        "    for layer in reversed(layers):\n",
        "        # Get the parameter gradients and the next layer gradient\n",
        "        param_grads, grad = layer.backward(grad)\n",
        "        layer_grads.append(param_grads)\n",
        "    return layer_grads\n"
      ],
      "metadata": {
        "id": "HRECP0z8VojB"
      },
      "execution_count": 9,
      "outputs": []
    },
    {
      "cell_type": "code",
      "source": [
        "import matplotlib.pyplot as plt\n",
        "import numpy as np\n",
        "\n",
        "class Optimizer():\n",
        "    def __init__(self):\n",
        "        self.w_vals = []\n",
        "        self.final_weights = None\n",
        "\n",
        "    def save_vector(self, layers):\n",
        "        # Do SVD on the matrix to get singular values\n",
        "        _, singular, _ = np.linalg.svd(layers[-1].weights)\n",
        "        # Add the final layer singular value to the list\n",
        "        self.w_vals.append(singular[0]) # Appending the highest singular value, singular value can be used for deciding the learning rate. High SV means high gradient and LR should be low\n",
        "        self.final_weights = layers[-1].weights\n",
        "\n",
        "    def plot_path(self):\n",
        "        indices = np.linspace(0, len(self.w_vals)-1, 500, dtype=int)\n",
        "        y = [self.w_vals[i] for i in indices]\n",
        "        x = [i for i in range(len(y))]\n",
        "\n",
        "        # Plot how the final layer singular value changes over time\n",
        "        plt.scatter([x[0]], [y[0]], color='red')\n",
        "        plt.scatter([x[-1]], [y[-1]], color='green')\n",
        "        plt.plot(x, y)\n",
        "        plt.show()\n",
        "\n",
        "    def plot_final_weights(self):\n",
        "        # flatten the final weights into a 1D array\n",
        "        final_weights = self.final_weights.ravel()\n",
        "        x = [i for i in range(final_weights.shape[0])]\n",
        "        plt.bar(x, final_weights)\n",
        "        plt.show()\n",
        "\n",
        "class Scheduler():\n",
        "    def __init__(self):\n",
        "        pass\n",
        "\n",
        "    def __call__(self):\n",
        "        pass\n",
        "\n",
        "    def plot_lr(self):\n",
        "        x = np.linspace(0, self.total_steps, 500, dtype=int)\n",
        "        y = [self(i) for i in x]\n",
        "        plt.plot(x, y)\n",
        "        plt.show()"
      ],
      "metadata": {
        "id": "VEAJDs_DlKr8"
      },
      "execution_count": 10,
      "outputs": []
    },
    {
      "cell_type": "code",
      "source": [
        "# Now,building the SGD optimizer\n",
        "\n",
        "class SGD(Optimizer):\n",
        "  def __init__(self,lr):\n",
        "    self.lr=lr\n",
        "    super().__init__()\n",
        "\n",
        "  def __call__(self,layer_grads,layers,batch_size,step):\n",
        "    for layer_grad, layer in zip(layer_grads,reversed(layers)):\n",
        "      w_grad,b_grad=layer_grad\n",
        "\n",
        "      # Normalize the weight gradient by batch size (bias gradient is already normalized)\n",
        "      w_grad/=batch_size\n",
        "\n",
        "      # Calculating the new weights\n",
        "      w_update= -self.lr * w_grad\n",
        "      b_update= -self.lr * b_grad\n",
        "\n",
        "      layer.update(w_update,b_update)\n",
        "\n",
        "\n",
        "    # Saving only for the first layers (weight and singular values) -- will generate a graph later on\n",
        "\n",
        "    self.save_vector(layers)\n",
        "\n"
      ],
      "metadata": {
        "id": "mFssdraAlzys"
      },
      "execution_count": 11,
      "outputs": []
    },
    {
      "cell_type": "code",
      "source": [
        "!pip install wandb -qU\n",
        "import wandb\n",
        "wandb.login()\n"
      ],
      "metadata": {
        "colab": {
          "base_uri": "https://localhost:8080/"
        },
        "id": "O7235tSESCiL",
        "outputId": "919ff5d9-14e4-4b44-88d0-ef96766634a6"
      },
      "execution_count": 31,
      "outputs": [
        {
          "output_type": "execute_result",
          "data": {
            "text/plain": [
              "True"
            ]
          },
          "metadata": {},
          "execution_count": 31
        }
      ]
    },
    {
      "cell_type": "code",
      "source": [
        "import time\n",
        "%env WANDB_SILENT=False\n",
        "def training_run(epochs, batch_size, optimizer, train_data, valid_data, name=None):\n",
        "    # Initialize a new W&B run, with the right parameters\n",
        "    wandb.init(project=\"optimizers\",\n",
        "               name=name,\n",
        "               config={\"batch_size\": batch_size,\n",
        "                       \"lr\": optimizer.lr,\n",
        "                       \"epochs\": epochs,\n",
        "                       \"optimizer\": type(optimizer).__name__})\n",
        "\n",
        "    # Setup the metrics we want to track with wandb.  You usually don't need to do this, but we want a custom axis for each metric.\n",
        "    wandb.define_metric(\"batch_step\") # This will ensure that results from runs with different batch sizes line up\n",
        "    wandb.define_metric(\"epoch\") # This will ensure that results from runs with different batch sizes line up\n",
        "    wandb.define_metric(\"valid_loss\", step_metric=\"epoch\") # The step metric is the x-axis scale\n",
        "    wandb.define_metric(\"train_loss\", step_metric=\"epoch\")\n",
        "    wandb.define_metric(\"runtime\", step_metric=\"epoch\")\n",
        "    wandb.define_metric(\"running_loss\", step_metric=\"batch_step\")\n",
        "\n",
        "    # Setup the layers for the training run\n",
        "    layers = [\n",
        "        Dense(7, 25),\n",
        "        Dense(25,10),\n",
        "        Dense(10, 1, activation=False)\n",
        "    ]\n",
        "\n",
        "    # Split the training and valid data into x and y\n",
        "    train_x, train_y = train_data\n",
        "    valid_x, valid_y = valid_data\n",
        "\n",
        "    for epoch in range(epochs):\n",
        "        running_loss = 0\n",
        "        start = time.time() # The start time of our run\n",
        "\n",
        "        for i in range(0, len(train_x), batch_size):\n",
        "            # Get the x and y batches\n",
        "            x_batch = train_x[i:(i+batch_size)]\n",
        "            y_batch = train_y[i:(i+batch_size)]\n",
        "            # Make a prediction\n",
        "            pred = forward(x_batch, layers)\n",
        "\n",
        "            # Run the backward pass\n",
        "            loss = pred - y_batch\n",
        "            layer_grads = backward(loss, layers)\n",
        "\n",
        "            # Run the optimizer\n",
        "            step_count = (i + batch_size) // batch_size + epoch * len(train_x) // batch_size\n",
        "            optimizer(layer_grads, layers, batch_size, step_count)\n",
        "\n",
        "            # Update running loss\n",
        "            running_loss += np.mean(loss ** 2)\n",
        "\n",
        "            batch_idx = i + batch_size # Get the last index of the current batch\n",
        "            batch_step = batch_idx + epoch * len(train_x)\n",
        "            # Log running loss.  We multiply by batch size to offset the mean from earlier.\n",
        "            wandb.log({\"running_loss\": running_loss / batch_idx * batch_size, \"batch_step\": batch_step})\n",
        "\n",
        "        # Calculate and log validation loss\n",
        "        valid_preds = forward(valid_x, layers)\n",
        "        valid_loss = np.mean((valid_preds - valid_y) ** 2)\n",
        "        train_loss = running_loss / len(train_x) * batch_size\n",
        "        wandb.log({\n",
        "            \"valid_loss\": valid_loss,\n",
        "            \"epoch\": epoch,\n",
        "            \"train_loss\": train_loss,\n",
        "            \"runtime\": time.time() - start\n",
        "        })\n",
        "\n",
        "    # Mark the run as complete\n",
        "    wandb.finish()\n"
      ],
      "metadata": {
        "colab": {
          "base_uri": "https://localhost:8080/"
        },
        "id": "Bi4AXEUfSrdF",
        "outputId": "99939733-fe35-4cb0-b929-3c0ee44b8ed6"
      },
      "execution_count": 32,
      "outputs": [
        {
          "output_type": "stream",
          "name": "stdout",
          "text": [
            "env: WANDB_SILENT=False\n"
          ]
        }
      ]
    },
    {
      "cell_type": "code",
      "source": [
        "# Setup our parameters\n",
        "epochs = 10\n",
        "batch_size = 4\n",
        "lr = 1e-4\n",
        "\n",
        "# Run our training loop\n",
        "sgd = SGD(lr=lr)\n",
        "training_run(epochs, batch_size, sgd, train_data, valid_data, name=\"sgd_small\")\n",
        "\n",
        "# Plot the path of the weights over time.\n",
        "sgd.plot_path()\n"
      ],
      "metadata": {
        "colab": {
          "base_uri": "https://localhost:8080/",
          "height": 447
        },
        "id": "BaeVs8psZhyH",
        "outputId": "3281c295-cebb-4add-cae0-0186eb3ede3f"
      },
      "execution_count": 33,
      "outputs": [
        {
          "output_type": "display_data",
          "data": {
            "text/plain": [
              "<IPython.core.display.HTML object>"
            ],
            "text/html": [
              "Changes to your `wandb` environment variables will be ignored because your `wandb` session has already started. For more information on how to modify your settings with `wandb.init()` arguments, please refer to <a href='https://wandb.me/wandb-init' target=\"_blank\">the W&B docs</a>."
            ]
          },
          "metadata": {}
        },
        {
          "output_type": "display_data",
          "data": {
            "text/plain": [
              "<Figure size 640x480 with 1 Axes>"
            ],
            "image/png": "[encoded data removed]"
          },
          "metadata": {}
        }
      ]
    },
    {
      "cell_type": "code",
      "source": [
        "# Setup our parameters\n",
        "epochs = 40 # higher number of epochs so total steps are equal for comparison purposes\n",
        "batch_size = 16\n",
        "lr = 1e-4\n",
        "\n",
        "# Run our training loop\n",
        "sgd = SGD(lr=lr)\n",
        "training_run(epochs, batch_size, sgd, train_data, valid_data, name=\"sgd_large\")\n",
        "sgd.plot_path()"
      ],
      "metadata": {
        "colab": {
          "base_uri": "https://localhost:8080/",
          "height": 447
        },
        "id": "2Qx9bs-EZj_G",
        "outputId": "d4585784-083e-4537-afab-d631965f5863"
      },
      "execution_count": 34,
      "outputs": [
        {
          "output_type": "display_data",
          "data": {
            "text/plain": [
              "<IPython.core.display.HTML object>"
            ],
            "text/html": [
              "Changes to your `wandb` environment variables will be ignored because your `wandb` session has already started. For more information on how to modify your settings with `wandb.init()` arguments, please refer to <a href='https://wandb.me/wandb-init' target=\"_blank\">the W&B docs</a>."
            ]
          },
          "metadata": {}
        },
        {
          "output_type": "display_data",
          "data": {
            "text/plain": [
              "<Figure size 640x480 with 1 Axes>"
            ],
            "image/png": "[encoded data removed]"
          },
          "metadata": {}
        }
      ]
    }
  ]
}