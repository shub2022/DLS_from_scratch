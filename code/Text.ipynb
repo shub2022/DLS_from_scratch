{
  "nbformat": 4,
  "nbformat_minor": 0,
  "metadata": {
    "colab": {
      "provenance": []
    },
    "kernelspec": {
      "name": "python3",
      "display_name": "Python 3"
    },
    "language_info": {
      "name": "python"
    }
  },
  "cells": [
    {
      "cell_type": "code",
      "execution_count": 1,
      "metadata": {
        "id": "eqCrE3ommaO7"
      },
      "outputs": [],
      "source": [
        "import pandas as pd"
      ]
    },
    {
      "cell_type": "code",
      "source": [
        "from google.colab import files\n",
        "uploaded = files.upload()"
      ],
      "metadata": {
        "colab": {
          "base_uri": "https://localhost:8080/",
          "height": 73
        },
        "id": "Bje6SB6unVt2",
        "outputId": "29567cc6-cd4b-412a-c49f-3849d1220271"
      },
      "execution_count": 2,
      "outputs": [
        {
          "output_type": "display_data",
          "data": {
            "text/plain": [
              "<IPython.core.display.HTML object>"
            ],
            "text/html": [
              "\n",
              "     <input type=\"file\" id=\"files-407e7ff0-fb54-43b2-9e0f-624a3652a46a\" name=\"files[]\" multiple disabled\n",
              "        style=\"border:none\" />\n",
              "     <output id=\"result-407e7ff0-fb54-43b2-9e0f-624a3652a46a\">\n",
              "      Upload widget is only available when the cell has been executed in the\n",
              "      current browser session. Please rerun this cell to enable.\n",
              "      </output>\n",
              "      <script>// Copyright 2017 Google LLC\n",
              "//\n",
              "// Licensed under the Apache License, Version 2.0 (the \"License\");\n",
              "// you may not use this file except in compliance with the License.\n",
              "// You may obtain a copy of the License at\n",
              "//\n",
              "//      http://www.apache.org/licenses/LICENSE-2.0\n",
              "//\n",
              "// Unless required by applicable law or agreed to in writing, software\n",
              "// distributed under the License is distributed on an \"AS IS\" BASIS,\n",
              "// WITHOUT WARRANTIES OR CONDITIONS OF ANY KIND, either express or implied.\n",
              "// See the License for the specific language governing permissions and\n",
              "// limitations under the License.\n",
              "\n",
              "/**\n",
              " * @fileoverview Helpers for google.colab Python module.\n",
              " */\n",
              "(function(scope) {\n",
              "function span(text, styleAttributes = {}) {\n",
              "  const element = document.createElement('span');\n",
              "  element.textContent = text;\n",
              "  for (const key of Object.keys(styleAttributes)) {\n",
              "    element.style[key] = styleAttributes[key];\n",
              "  }\n",
              "  return element;\n",
              "}\n",
              "\n",
              "// Max number of bytes which will be uploaded at a time.\n",
              "const MAX_PAYLOAD_SIZE = 100 * 1024;\n",
              "\n",
              "function _uploadFiles(inputId, outputId) {\n",
              "  const steps = uploadFilesStep(inputId, outputId);\n",
              "  const outputElement = document.getElementById(outputId);\n",
              "  // Cache steps on the outputElement to make it available for the next call\n",
              "  // to uploadFilesContinue from Python.\n",
              "  outputElement.steps = steps;\n",
              "\n",
              "  return _uploadFilesContinue(outputId);\n",
              "}\n",
              "\n",
              "// This is roughly an async generator (not supported in the browser yet),\n",
              "// where there are multiple asynchronous steps and the Python side is going\n",
              "// to poll for completion of each step.\n",
              "// This uses a Promise to block the python side on completion of each step,\n",
              "// then passes the result of the previous step as the input to the next step.\n",
              "function _uploadFilesContinue(outputId) {\n",
              "  const outputElement = document.getElementById(outputId);\n",
              "  const steps = outputElement.steps;\n",
              "\n",
              "  const next = steps.next(outputElement.lastPromiseValue);\n",
              "  return Promise.resolve(next.value.promise).then((value) => {\n",
              "    // Cache the last promise value to make it available to the next\n",
              "    // step of the generator.\n",
              "    outputElement.lastPromiseValue = value;\n",
              "    return next.value.response;\n",
              "  });\n",
              "}\n",
              "\n",
              "/**\n",
              " * Generator function which is called between each async step of the upload\n",
              " * process.\n",
              " * @param {string} inputId Element ID of the input file picker element.\n",
              " * @param {string} outputId Element ID of the output display.\n",
              " * @return {!Iterable<!Object>} Iterable of next steps.\n",
              " */\n",
              "function* uploadFilesStep(inputId, outputId) {\n",
              "  const inputElement = document.getElementById(inputId);\n",
              "  inputElement.disabled = false;\n",
              "\n",
              "  const outputElement = document.getElementById(outputId);\n",
              "  outputElement.innerHTML = '';\n",
              "\n",
              "  const pickedPromise = new Promise((resolve) => {\n",
              "    inputElement.addEventListener('change', (e) => {\n",
              "      resolve(e.target.files);\n",
              "    });\n",
              "  });\n",
              "\n",
              "  const cancel = document.createElement('button');\n",
              "  inputElement.parentElement.appendChild(cancel);\n",
              "  cancel.textContent = 'Cancel upload';\n",
              "  const cancelPromise = new Promise((resolve) => {\n",
              "    cancel.onclick = () => {\n",
              "      resolve(null);\n",
              "    };\n",
              "  });\n",
              "\n",
              "  // Wait for the user to pick the files.\n",
              "  const files = yield {\n",
              "    promise: Promise.race([pickedPromise, cancelPromise]),\n",
              "    response: {\n",
              "      action: 'starting',\n",
              "    }\n",
              "  };\n",
              "\n",
              "  cancel.remove();\n",
              "\n",
              "  // Disable the input element since further picks are not allowed.\n",
              "  inputElement.disabled = true;\n",
              "\n",
              "  if (!files) {\n",
              "    return {\n",
              "      response: {\n",
              "        action: 'complete',\n",
              "      }\n",
              "    };\n",
              "  }\n",
              "\n",
              "  for (const file of files) {\n",
              "    const li = document.createElement('li');\n",
              "    li.append(span(file.name, {fontWeight: 'bold'}));\n",
              "    li.append(span(\n",
              "        `(${file.type || 'n/a'}) - ${file.size} bytes, ` +\n",
              "        `last modified: ${\n",
              "            file.lastModifiedDate ? file.lastModifiedDate.toLocaleDateString() :\n",
              "                                    'n/a'} - `));\n",
              "    const percent = span('0% done');\n",
              "    li.appendChild(percent);\n",
              "\n",
              "    outputElement.appendChild(li);\n",
              "\n",
              "    const fileDataPromise = new Promise((resolve) => {\n",
              "      const reader = new FileReader();\n",
              "      reader.onload = (e) => {\n",
              "        resolve(e.target.result);\n",
              "      };\n",
              "      reader.readAsArrayBuffer(file);\n",
              "    });\n",
              "    // Wait for the data to be ready.\n",
              "    let fileData = yield {\n",
              "      promise: fileDataPromise,\n",
              "      response: {\n",
              "        action: 'continue',\n",
              "      }\n",
              "    };\n",
              "\n",
              "    // Use a chunked sending to avoid message size limits. See b/62115660.\n",
              "    let position = 0;\n",
              "    do {\n",
              "      const length = Math.min(fileData.byteLength - position, MAX_PAYLOAD_SIZE);\n",
              "      const chunk = new Uint8Array(fileData, position, length);\n",
              "      position += length;\n",
              "\n",
              "      const base64 = btoa(String.fromCharCode.apply(null, chunk));\n",
              "      yield {\n",
              "        response: {\n",
              "          action: 'append',\n",
              "          file: file.name,\n",
              "          data: base64,\n",
              "        },\n",
              "      };\n",
              "\n",
              "      let percentDone = fileData.byteLength === 0 ?\n",
              "          100 :\n",
              "          Math.round((position / fileData.byteLength) * 100);\n",
              "      percent.textContent = `${percentDone}% done`;\n",
              "\n",
              "    } while (position < fileData.byteLength);\n",
              "  }\n",
              "\n",
              "  // All done.\n",
              "  yield {\n",
              "    response: {\n",
              "      action: 'complete',\n",
              "    }\n",
              "  };\n",
              "}\n",
              "\n",
              "scope.google = scope.google || {};\n",
              "scope.google.colab = scope.google.colab || {};\n",
              "scope.google.colab._files = {\n",
              "  _uploadFiles,\n",
              "  _uploadFilesContinue,\n",
              "};\n",
              "})(self);\n",
              "</script> "
            ]
          },
          "metadata": {}
        },
        {
          "output_type": "stream",
          "name": "stdout",
          "text": [
            "Saving opus_books.csv to opus_books.csv\n"
          ]
        }
      ]
    },
    {
      "cell_type": "code",
      "source": [
        "import io\n",
        "opus = pd.read_csv(io.BytesIO(uploaded['opus_books.csv']))\n",
        "opus.head()"
      ],
      "metadata": {
        "colab": {
          "base_uri": "https://localhost:8080/",
          "height": 206
        },
        "id": "iqj3Mtk9n4FE",
        "outputId": "0437071d-2043-404b-ec27-6bc8a9c3eafc"
      },
      "execution_count": 3,
      "outputs": [
        {
          "output_type": "execute_result",
          "data": {
            "text/plain": [
              "                                                  en  \\\n",
              "0  In the society of his nephew and niece, and th...   \n",
              "1  By a former marriage, Mr. Henry Dashwood had o...   \n",
              "2  By his own marriage, likewise, which happened ...   \n",
              "3  But the fortune, which had been so tardy in co...   \n",
              "4  But Mrs. John Dashwood was a strong caricature...   \n",
              "\n",
              "                                                  es  \n",
              "0  En compañía de su sobrino y sobrina, y de los ...  \n",
              "1  De un matrimonio anterior, el señor Henry Dash...  \n",
              "2  Además, su propio matrimonio, ocurrido poco de...  \n",
              "3  Pero la fortuna, que había tardado tanto en ll...  \n",
              "4  Pero la señora de John Dashwood era una áspera...  "
            ],
            "text/html": [
              "\n",
              "  <div id=\"df-9477afcb-8dcc-499d-abeb-f085153e305e\" class=\"colab-df-container\">\n",
              "    <div>\n",
              "<style scoped>\n",
              "    .dataframe tbody tr th:only-of-type {\n",
              "        vertical-align: middle;\n",
              "    }\n",
              "\n",
              "    .dataframe tbody tr th {\n",
              "        vertical-align: top;\n",
              "    }\n",
              "\n",
              "    .dataframe thead th {\n",
              "        text-align: right;\n",
              "    }\n",
              "</style>\n",
              "<table border=\"1\" class=\"dataframe\">\n",
              "  <thead>\n",
              "    <tr style=\"text-align: right;\">\n",
              "      <th></th>\n",
              "      <th>en</th>\n",
              "      <th>es</th>\n",
              "    </tr>\n",
              "  </thead>\n",
              "  <tbody>\n",
              "    <tr>\n",
              "      <th>0</th>\n",
              "      <td>In the society of his nephew and niece, and th...</td>\n",
              "      <td>En compañía de su sobrino y sobrina, y de los ...</td>\n",
              "    </tr>\n",
              "    <tr>\n",
              "      <th>1</th>\n",
              "      <td>By a former marriage, Mr. Henry Dashwood had o...</td>\n",
              "      <td>De un matrimonio anterior, el señor Henry Dash...</td>\n",
              "    </tr>\n",
              "    <tr>\n",
              "      <th>2</th>\n",
              "      <td>By his own marriage, likewise, which happened ...</td>\n",
              "      <td>Además, su propio matrimonio, ocurrido poco de...</td>\n",
              "    </tr>\n",
              "    <tr>\n",
              "      <th>3</th>\n",
              "      <td>But the fortune, which had been so tardy in co...</td>\n",
              "      <td>Pero la fortuna, que había tardado tanto en ll...</td>\n",
              "    </tr>\n",
              "    <tr>\n",
              "      <th>4</th>\n",
              "      <td>But Mrs. John Dashwood was a strong caricature...</td>\n",
              "      <td>Pero la señora de John Dashwood era una áspera...</td>\n",
              "    </tr>\n",
              "  </tbody>\n",
              "</table>\n",
              "</div>\n",
              "    <div class=\"colab-df-buttons\">\n",
              "\n",
              "  <div class=\"colab-df-container\">\n",
              "    <button class=\"colab-df-convert\" onclick=\"convertToInteractive('df-9477afcb-8dcc-499d-abeb-f085153e305e')\"\n",
              "            title=\"Convert this dataframe to an interactive table.\"\n",
              "            style=\"display:none;\">\n",
              "\n",
              "  <svg xmlns=\"http://www.w3.org/2000/svg\" height=\"24px\" viewBox=\"0 -960 960 960\">\n",
              "    <path d=\"M120-120v-720h720v720H120Zm60-500h600v-160H180v160Zm220 220h160v-160H400v160Zm0 220h160v-160H400v160ZM180-400h160v-160H180v160Zm440 0h160v-160H620v160ZM180-180h160v-160H180v160Zm440 0h160v-160H620v160Z\"/>\n",
              "  </svg>\n",
              "    </button>\n",
              "\n",
              "  <style>\n",
              "    .colab-df-container {\n",
              "      display:flex;\n",
              "      gap: 12px;\n",
              "    }\n",
              "\n",
              "    .colab-df-convert {\n",
              "      background-color: #E8F0FE;\n",
              "      border: none;\n",
              "      border-radius: 50%;\n",
              "      cursor: pointer;\n",
              "      display: none;\n",
              "      fill: #1967D2;\n",
              "      height: 32px;\n",
              "      padding: 0 0 0 0;\n",
              "      width: 32px;\n",
              "    }\n",
              "\n",
              "    .colab-df-convert:hover {\n",
              "      background-color: #E2EBFA;\n",
              "      box-shadow: 0px 1px 2px rgba(60, 64, 67, 0.3), 0px 1px 3px 1px rgba(60, 64, 67, 0.15);\n",
              "      fill: #174EA6;\n",
              "    }\n",
              "\n",
              "    .colab-df-buttons div {\n",
              "      margin-bottom: 4px;\n",
              "    }\n",
              "\n",
              "    [theme=dark] .colab-df-convert {\n",
              "      background-color: #3B4455;\n",
              "      fill: #D2E3FC;\n",
              "    }\n",
              "\n",
              "    [theme=dark] .colab-df-convert:hover {\n",
              "      background-color: #434B5C;\n",
              "      box-shadow: 0px 1px 3px 1px rgba(0, 0, 0, 0.15);\n",
              "      filter: drop-shadow(0px 1px 2px rgba(0, 0, 0, 0.3));\n",
              "      fill: #FFFFFF;\n",
              "    }\n",
              "  </style>\n",
              "\n",
              "    <script>\n",
              "      const buttonEl =\n",
              "        document.querySelector('#df-9477afcb-8dcc-499d-abeb-f085153e305e button.colab-df-convert');\n",
              "      buttonEl.style.display =\n",
              "        google.colab.kernel.accessAllowed ? 'block' : 'none';\n",
              "\n",
              "      async function convertToInteractive(key) {\n",
              "        const element = document.querySelector('#df-9477afcb-8dcc-499d-abeb-f085153e305e');\n",
              "        const dataTable =\n",
              "          await google.colab.kernel.invokeFunction('convertToInteractive',\n",
              "                                                    [key], {});\n",
              "        if (!dataTable) return;\n",
              "\n",
              "        const docLinkHtml = 'Like what you see? Visit the ' +\n",
              "          '<a target=\"_blank\" href=https://colab.research.google.com/notebooks/data_table.ipynb>data table notebook</a>'\n",
              "          + ' to learn more about interactive tables.';\n",
              "        element.innerHTML = '';\n",
              "        dataTable['output_type'] = 'display_data';\n",
              "        await google.colab.output.renderOutput(dataTable, element);\n",
              "        const docLink = document.createElement('div');\n",
              "        docLink.innerHTML = docLinkHtml;\n",
              "        element.appendChild(docLink);\n",
              "      }\n",
              "    </script>\n",
              "  </div>\n",
              "\n",
              "\n",
              "<div id=\"df-0e4b2cb4-c9db-451c-af5f-b251e8ef9c00\">\n",
              "  <button class=\"colab-df-quickchart\" onclick=\"quickchart('df-0e4b2cb4-c9db-451c-af5f-b251e8ef9c00')\"\n",
              "            title=\"Suggest charts\"\n",
              "            style=\"display:none;\">\n",
              "\n",
              "<svg xmlns=\"http://www.w3.org/2000/svg\" height=\"24px\"viewBox=\"0 0 24 24\"\n",
              "     width=\"24px\">\n",
              "    <g>\n",
              "        <path d=\"M19 3H5c-1.1 0-2 .9-2 2v14c0 1.1.9 2 2 2h14c1.1 0 2-.9 2-2V5c0-1.1-.9-2-2-2zM9 17H7v-7h2v7zm4 0h-2V7h2v10zm4 0h-2v-4h2v4z\"/>\n",
              "    </g>\n",
              "</svg>\n",
              "  </button>\n",
              "\n",
              "<style>\n",
              "  .colab-df-quickchart {\n",
              "      --bg-color: #E8F0FE;\n",
              "      --fill-color: #1967D2;\n",
              "      --hover-bg-color: #E2EBFA;\n",
              "      --hover-fill-color: #174EA6;\n",
              "      --disabled-fill-color: #AAA;\n",
              "      --disabled-bg-color: #DDD;\n",
              "  }\n",
              "\n",
              "  [theme=dark] .colab-df-quickchart {\n",
              "      --bg-color: #3B4455;\n",
              "      --fill-color: #D2E3FC;\n",
              "      --hover-bg-color: #434B5C;\n",
              "      --hover-fill-color: #FFFFFF;\n",
              "      --disabled-bg-color: #3B4455;\n",
              "      --disabled-fill-color: #666;\n",
              "  }\n",
              "\n",
              "  .colab-df-quickchart {\n",
              "    background-color: var(--bg-color);\n",
              "    border: none;\n",
              "    border-radius: 50%;\n",
              "    cursor: pointer;\n",
              "    display: none;\n",
              "    fill: var(--fill-color);\n",
              "    height: 32px;\n",
              "    padding: 0;\n",
              "    width: 32px;\n",
              "  }\n",
              "\n",
              "  .colab-df-quickchart:hover {\n",
              "    background-color: var(--hover-bg-color);\n",
              "    box-shadow: 0 1px 2px rgba(60, 64, 67, 0.3), 0 1px 3px 1px rgba(60, 64, 67, 0.15);\n",
              "    fill: var(--button-hover-fill-color);\n",
              "  }\n",
              "\n",
              "  .colab-df-quickchart-complete:disabled,\n",
              "  .colab-df-quickchart-complete:disabled:hover {\n",
              "    background-color: var(--disabled-bg-color);\n",
              "    fill: var(--disabled-fill-color);\n",
              "    box-shadow: none;\n",
              "  }\n",
              "\n",
              "  .colab-df-spinner {\n",
              "    border: 2px solid var(--fill-color);\n",
              "    border-color: transparent;\n",
              "    border-bottom-color: var(--fill-color);\n",
              "    animation:\n",
              "      spin 1s steps(1) infinite;\n",
              "  }\n",
              "\n",
              "  @keyframes spin {\n",
              "    0% {\n",
              "      border-color: transparent;\n",
              "      border-bottom-color: var(--fill-color);\n",
              "      border-left-color: var(--fill-color);\n",
              "    }\n",
              "    20% {\n",
              "      border-color: transparent;\n",
              "      border-left-color: var(--fill-color);\n",
              "      border-top-color: var(--fill-color);\n",
              "    }\n",
              "    30% {\n",
              "      border-color: transparent;\n",
              "      border-left-color: var(--fill-color);\n",
              "      border-top-color: var(--fill-color);\n",
              "      border-right-color: var(--fill-color);\n",
              "    }\n",
              "    40% {\n",
              "      border-color: transparent;\n",
              "      border-right-color: var(--fill-color);\n",
              "      border-top-color: var(--fill-color);\n",
              "    }\n",
              "    60% {\n",
              "      border-color: transparent;\n",
              "      border-right-color: var(--fill-color);\n",
              "    }\n",
              "    80% {\n",
              "      border-color: transparent;\n",
              "      border-right-color: var(--fill-color);\n",
              "      border-bottom-color: var(--fill-color);\n",
              "    }\n",
              "    90% {\n",
              "      border-color: transparent;\n",
              "      border-bottom-color: var(--fill-color);\n",
              "    }\n",
              "  }\n",
              "</style>\n",
              "\n",
              "  <script>\n",
              "    async function quickchart(key) {\n",
              "      const quickchartButtonEl =\n",
              "        document.querySelector('#' + key + ' button');\n",
              "      quickchartButtonEl.disabled = true;  // To prevent multiple clicks.\n",
              "      quickchartButtonEl.classList.add('colab-df-spinner');\n",
              "      try {\n",
              "        const charts = await google.colab.kernel.invokeFunction(\n",
              "            'suggestCharts', [key], {});\n",
              "      } catch (error) {\n",
              "        console.error('Error during call to suggestCharts:', error);\n",
              "      }\n",
              "      quickchartButtonEl.classList.remove('colab-df-spinner');\n",
              "      quickchartButtonEl.classList.add('colab-df-quickchart-complete');\n",
              "    }\n",
              "    (() => {\n",
              "      let quickchartButtonEl =\n",
              "        document.querySelector('#df-0e4b2cb4-c9db-451c-af5f-b251e8ef9c00 button');\n",
              "      quickchartButtonEl.style.display =\n",
              "        google.colab.kernel.accessAllowed ? 'block' : 'none';\n",
              "    })();\n",
              "  </script>\n",
              "</div>\n",
              "\n",
              "    </div>\n",
              "  </div>\n"
            ]
          },
          "metadata": {},
          "execution_count": 3
        }
      ]
    },
    {
      "cell_type": "code",
      "source": [
        "import re\n",
        "from collections import defaultdict\n",
        "\n",
        "special_tokens={\n",
        "    \"<PAD>\":0,\n",
        "    \"<UNK>\":1,\n",
        "    \"<BOS>\":2,\n",
        "    \"<EOS>\":3\n",
        "}\n",
        "\n",
        "vocab=special_tokens.copy()"
      ],
      "metadata": {
        "id": "_rR-XxnfoC5V"
      },
      "execution_count": 4,
      "outputs": []
    },
    {
      "cell_type": "code",
      "source": [
        "# Now, defining a sentence cleaner and a tokenizer\n",
        "\n",
        "token_limit=11\n",
        "\n",
        "def clean(text):\n",
        "  text=re.sub(r'[^\\w\\s,?.!]',' ', text)\n",
        "  text = text.strip()\n",
        "  return text\n",
        "\n",
        "\n",
        "def tokenize(text):\n",
        "    # Split on consecutive whitespace and punctuation\n",
        "    tokens = re.findall(r'\\w+|[^\\w\\s]+|[\\s]+', text)\n",
        "\n",
        "    # Pad sentences that are too short\n",
        "    if len(tokens) < token_limit:\n",
        "        pad_count = token_limit - len(tokens)\n",
        "        tokens = [\"<PAD>\"] * pad_count + tokens\n",
        "\n",
        "    # Only take tokens up to the limit\n",
        "    tokens = tokens[:token_limit]\n",
        "    return tokens"
      ],
      "metadata": {
        "id": "51g3hukqraGy"
      },
      "execution_count": 5,
      "outputs": []
    },
    {
      "cell_type": "code",
      "source": [
        "\n",
        "# Example tokenization\n",
        "tokenize(\"This is fucking amazing.\")"
      ],
      "metadata": {
        "colab": {
          "base_uri": "https://localhost:8080/"
        },
        "id": "0OJxBM8W8opX",
        "outputId": "7d7d4d06-12c4-443f-e059-db305957b50d"
      },
      "execution_count": 6,
      "outputs": [
        {
          "output_type": "execute_result",
          "data": {
            "text/plain": [
              "['<PAD>',\n",
              " '<PAD>',\n",
              " '<PAD>',\n",
              " 'This',\n",
              " ' ',\n",
              " 'is',\n",
              " ' ',\n",
              " 'fucking',\n",
              " ' ',\n",
              " 'amazing',\n",
              " '.']"
            ]
          },
          "metadata": {},
          "execution_count": 6
        }
      ]
    },
    {
      "cell_type": "code",
      "source": [
        "opus_tokens = defaultdict(int) # As this will not raise a key error and will return a defualt value for a key that does not exist\n",
        "\n",
        "for index,row in opus.iterrows():\n",
        "  cleaned=clean(row[\"en\"])\n",
        "  tokens=tokenize(cleaned)\n",
        "  for token in tokens:\n",
        "    opus_tokens[token] +=1 # Storing the count of occurence for each token\n",
        "\n",
        "# Now creating the vocabulary\n",
        "\n",
        "# Since we have some special tokens already present, adjusting the counter accordingly\n",
        "\n",
        "counter=len(vocab)\n",
        "\n",
        "# Assigning a unique if for the tokens appearing more than once\n",
        "\n",
        "\n",
        "for index, token in enumerate(opus_tokens):\n",
        "  if opus_tokens[token]>1:\n",
        "    vocab[token]=counter\n",
        "    counter += 1\n",
        "  else:\n",
        "    vocab[token] = 1 # Else assigning an unknown id"
      ],
      "metadata": {
        "id": "sNy6QrZJ8tWW"
      },
      "execution_count": 7,
      "outputs": []
    },
    {
      "cell_type": "code",
      "source": [
        "len(vocab)"
      ],
      "metadata": {
        "colab": {
          "base_uri": "https://localhost:8080/"
        },
        "id": "s3ex8pvLA1yk",
        "outputId": "5f355a42-3b37-4858-b32c-aa8a66b6bbb0"
      },
      "execution_count": 8,
      "outputs": [
        {
          "output_type": "execute_result",
          "data": {
            "text/plain": [
              "11731"
            ]
          },
          "metadata": {},
          "execution_count": 8
        }
      ]
    },
    {
      "cell_type": "code",
      "source": [
        "# Now creating a reverse dictionary\n",
        "\n",
        "reverse_vocab = {v: k for k, v in vocab.items()}\n",
        "\n",
        "# Several tokens could be mapped to the <UNK> token id, so make sure we set the reverse mapping correctly\n",
        "for k, v in special_tokens.items():\n",
        "    reverse_vocab[v] = k"
      ],
      "metadata": {
        "id": "hGczFr59A4YX"
      },
      "execution_count": 9,
      "outputs": []
    },
    {
      "cell_type": "code",
      "source": [
        "len(reverse_vocab)"
      ],
      "metadata": {
        "colab": {
          "base_uri": "https://localhost:8080/"
        },
        "id": "lGWECl-2C8EL",
        "outputId": "0521efee-fcb2-4216-afe8-32beccc34962"
      },
      "execution_count": 10,
      "outputs": [
        {
          "output_type": "execute_result",
          "data": {
            "text/plain": [
              "5628"
            ]
          },
          "metadata": {},
          "execution_count": 10
        }
      ]
    },
    {
      "cell_type": "code",
      "source": [
        "import torch\n",
        "\n",
        "def encode(text):\n",
        "    # Yokenize input text\n",
        "    tokens = tokenize(clean(text))\n",
        "    # Convert to token ids\n",
        "    encoded = torch.tensor([vocab[token] for token in tokens])\n",
        "    return encoded\n",
        "\n",
        "def decode(encoded):\n",
        "    # The input is a torch tensor - convert it to a list\n",
        "    encoded = encoded.detach().cpu().tolist()\n",
        "    # Decode a list of integers into text\n",
        "    decoded = \"\".join([reverse_vocab[token] for token in encoded])\n",
        "    return decoded"
      ],
      "metadata": {
        "id": "mxVIaundDFrC"
      },
      "execution_count": 11,
      "outputs": []
    },
    {
      "cell_type": "code",
      "source": [
        "tokenized = []\n",
        "for index, row in opus.iterrows():\n",
        "    # Encode the English sentences\n",
        "    en_text = row[\"en\"]\n",
        "    en = encode(en_text)\n",
        "    tokenized.append(en)"
      ],
      "metadata": {
        "id": "lrMcU1niEGUi"
      },
      "execution_count": 12,
      "outputs": []
    },
    {
      "cell_type": "code",
      "source": [
        "tokenized[1]"
      ],
      "metadata": {
        "id": "o0BBxzCJbdkD",
        "outputId": "b1001439-3d6f-419b-d570-5078285d4471",
        "colab": {
          "base_uri": "https://localhost:8080/"
        }
      },
      "execution_count": 13,
      "outputs": [
        {
          "output_type": "execute_result",
          "data": {
            "text/plain": [
              "tensor([11,  5, 12,  5, 13,  5, 14, 15,  5, 16, 17])"
            ]
          },
          "metadata": {},
          "execution_count": 13
        }
      ]
    },
    {
      "cell_type": "code",
      "source": [
        "# For now, we will be predicting the 11th word in the sentence.\n",
        "\n",
        "# Creating a tensor dataset iterator which will be used for training the neural network\n",
        "\n",
        "\n",
        "from torch.utils.data import DataLoader, Dataset\n",
        "\n",
        "class TextData(Dataset):\n",
        "  def __init__(self,data):\n",
        "    self.tokens=torch.vstack(data).long()\n",
        "\n",
        "  def __len__(self):\n",
        "    return len(self.tokens)\n",
        "\n",
        "  def __getitem__(self, index):\n",
        "     x = self.tokens[index][:10]\n",
        "     y = self.tokens[index][10]\n",
        "     return x, y\n",
        "\n",
        "train_ds = TextData(tokenized)\n",
        "# Initialize dataloader with a high batch size\n",
        "train = DataLoader(train_ds, batch_size=16)\n"
      ],
      "metadata": {
        "id": "5Sbicw3tbe47"
      },
      "execution_count": 14,
      "outputs": []
    },
    {
      "cell_type": "code",
      "source": [
        "train_ds[1]"
      ],
      "metadata": {
        "id": "HKXCQC0QdzSz",
        "outputId": "ea5099b8-e336-4f96-b344-adb5f4f5b862",
        "colab": {
          "base_uri": "https://localhost:8080/"
        }
      },
      "execution_count": 15,
      "outputs": [
        {
          "output_type": "execute_result",
          "data": {
            "text/plain": [
              "(tensor([11,  5, 12,  5, 13,  5, 14, 15,  5, 16]), tensor(17))"
            ]
          },
          "metadata": {},
          "execution_count": 15
        }
      ]
    },
    {
      "cell_type": "code",
      "source": [
        "# The dataloader is an iterator\n",
        "# next(iter()) will get the first batch\n",
        "batch = next(iter(train))\n",
        "batch\n",
        "\n",
        "# This is just to get the first batch - Getting a better understanding of how the text data flows"
      ],
      "metadata": {
        "id": "TkxmQvJpd6fM",
        "outputId": "09ba7a8a-e04f-4240-d573-40048be7dc04",
        "colab": {
          "base_uri": "https://localhost:8080/"
        }
      },
      "execution_count": 16,
      "outputs": [
        {
          "output_type": "execute_result",
          "data": {
            "text/plain": [
              "[tensor([[ 4,  5,  6,  5,  7,  5,  8,  5,  9,  5],\n",
              "         [11,  5, 12,  5, 13,  5, 14, 15,  5, 16],\n",
              "         [11,  5,  9,  5, 18,  5, 14, 15,  5, 19],\n",
              "         [20,  5,  6,  5, 21, 15,  5, 22,  5, 23],\n",
              "         [20,  5, 24, 17,  5, 25,  5, 26,  5, 27],\n",
              "         [28,  5, 29,  5, 30,  5, 31, 15,  5, 32],\n",
              "         [33,  5, 27,  5, 34,  5, 35,  5, 36, 37],\n",
              "         [33,  5, 27,  5,  1, 15,  5, 39, 15,  5],\n",
              "         [41,  5, 42, 15,  5, 43,  5, 44, 15,  5],\n",
              "         [45,  5, 46,  5, 47,  5, 48,  5, 49,  5],\n",
              "         [50,  5, 51,  5,  8,  5, 52,  5, 22,  5],\n",
              "         [41, 15,  5, 54, 15,  5, 27,  5, 55,  5],\n",
              "         [57,  5,  1,  5, 32,  5, 12,  5, 58,  5],\n",
              "         [24, 17,  5, 25,  5, 26,  5, 60,  5, 61],\n",
              "         [62,  5, 63,  5, 64,  5, 65,  5, 66,  5],\n",
              "         [68,  5, 69,  5, 70,  5, 71,  5, 72,  5]]),\n",
              " tensor([10, 17, 15,  5,  5,  5, 38, 40,  6, 32, 53, 56, 59,  5, 67, 73])]"
            ]
          },
          "metadata": {},
          "execution_count": 16
        }
      ]
    },
    {
      "cell_type": "code",
      "source": [
        "batch[0]"
      ],
      "metadata": {
        "id": "jRHAq1KAtdhX",
        "outputId": "052a9860-3779-4b61-aa92-0b05e7962aa7",
        "colab": {
          "base_uri": "https://localhost:8080/"
        }
      },
      "execution_count": 18,
      "outputs": [
        {
          "output_type": "execute_result",
          "data": {
            "text/plain": [
              "tensor([[ 4,  5,  6,  5,  7,  5,  8,  5,  9,  5],\n",
              "        [11,  5, 12,  5, 13,  5, 14, 15,  5, 16],\n",
              "        [11,  5,  9,  5, 18,  5, 14, 15,  5, 19],\n",
              "        [20,  5,  6,  5, 21, 15,  5, 22,  5, 23],\n",
              "        [20,  5, 24, 17,  5, 25,  5, 26,  5, 27],\n",
              "        [28,  5, 29,  5, 30,  5, 31, 15,  5, 32],\n",
              "        [33,  5, 27,  5, 34,  5, 35,  5, 36, 37],\n",
              "        [33,  5, 27,  5,  1, 15,  5, 39, 15,  5],\n",
              "        [41,  5, 42, 15,  5, 43,  5, 44, 15,  5],\n",
              "        [45,  5, 46,  5, 47,  5, 48,  5, 49,  5],\n",
              "        [50,  5, 51,  5,  8,  5, 52,  5, 22,  5],\n",
              "        [41, 15,  5, 54, 15,  5, 27,  5, 55,  5],\n",
              "        [57,  5,  1,  5, 32,  5, 12,  5, 58,  5],\n",
              "        [24, 17,  5, 25,  5, 26,  5, 60,  5, 61],\n",
              "        [62,  5, 63,  5, 64,  5, 65,  5, 66,  5],\n",
              "        [68,  5, 69,  5, 70,  5, 71,  5, 72,  5]])"
            ]
          },
          "metadata": {},
          "execution_count": 18
        }
      ]
    },
    {
      "cell_type": "code",
      "source": [
        "# Now creating the embedding later\n",
        "\n",
        "\n",
        "import math\n",
        "from torch import nn\n",
        "\n",
        "class Embedding(nn.Module):\n",
        "  def __init__(self,vocab_size,embed_dim):\n",
        "    super().__init__()\n",
        "    k = 1/math.sqrt(embed_dim) #Xavier/Glorot Initialization\n",
        "    self.weights =  torch.rand(vocab_size, embed_dim) * 2 * k - k # Defining weights centered around 0 in the range (-k,k). This is helpful in efficient convergence, stability of weight update\n",
        "    self.weights[0] = 0 # Zero out the padding embedding\n",
        "        # Using nn.Parameter tells torch to update this value in the backward pass\n",
        "    self.weights = nn.Parameter(self.weights)\n",
        "\n",
        "  def forward(self,token_ids):\n",
        "    return self.weights[token_ids] # Wil return a 3D matrix. (B,T,E) - B- Batch size, T- tokens in each sentence, E- Encoding for tokens (embed_dim)\n"
      ],
      "metadata": {
        "id": "vk-1B9U6tin2"
      },
      "execution_count": 29,
      "outputs": []
    },
    {
      "cell_type": "code",
      "source": [],
      "metadata": {
        "id": "6LaKvUSdwV19",
        "outputId": "10fc00a8-7881-4e7c-daf5-26dbfa21d778",
        "colab": {
          "base_uri": "https://localhost:8080/"
        }
      },
      "execution_count": 23,
      "outputs": [
        {
          "output_type": "execute_result",
          "data": {
            "text/plain": [
              "array([[0.89526292, 0.59138934, 0.17612222, ..., 0.41971541, 0.25957032,\n",
              "        0.72454456],\n",
              "       [0.08089466, 0.06763467, 0.06935093, ..., 0.85823329, 0.54371574,\n",
              "        0.85797862],\n",
              "       [0.06509178, 0.63566992, 0.7541466 , ..., 0.20550716, 0.9141946 ,\n",
              "        0.04202733],\n",
              "       ...,\n",
              "       [0.52854091, 0.08820994, 0.97176282, ..., 0.10825685, 0.10440298,\n",
              "        0.3383994 ],\n",
              "       [0.25624182, 0.95547562, 0.67998267, ..., 0.68865402, 0.00142333,\n",
              "        0.00168771],\n",
              "       [0.09015057, 0.60996736, 0.59030291, ..., 0.07842738, 0.06210588,\n",
              "        0.69879868]])"
            ]
          },
          "metadata": {},
          "execution_count": 23
        }
      ]
    },
    {
      "cell_type": "code",
      "source": [
        "# Now defining the token predictor layer\n",
        "\n",
        "class TokenPredictor(nn.Module):\n",
        "  def __init__(self,vocab_size, input_token_count, hidden_units): # This is B,T,E\n",
        "    super().__init__()\n",
        "    torch.manual_seed(100)\n",
        "\n",
        "    # Starting with the embedding layer\n",
        "    self.embedding=Embedding(vocab_size,hidden_units)\n",
        "    # Next is a Dense layer\n",
        "    self.dense1=nn.Linear(hidden_units,hidden_units)\n",
        "    # Next is the activation layer (ReLU)\n",
        "    self.relu=nn.ReLU()\n",
        "    # Defining the output layer\n",
        "    # Output layer looks at all embedding vectors and generates a prediction\n",
        "    self.output=nn.Linear(hidden_units*input_token_count, hidden_units)\n",
        "\n",
        "  def forward(self,x):\n",
        "    embedded=self.embedding(x) # Creating the vector embeddings\n",
        "    # Run the network\n",
        "    x=self.relu(self.dense1(embedded))\n",
        "\n",
        "    # Flatten the vectors into one large vector per sentence for the final layer\n",
        "\n",
        "    flat=torch.flatten(x,start_dim=1)\n",
        "\n",
        "    # output layer\n",
        "    network_out=self.output(flat)\n",
        "\n",
        "    # Unembed the vector (Output should be batch_size,vocab_size) - will project onto this space using the embedding weights\n",
        "    # Argmax against this output will give the predicted token\n",
        "    out_vector=network_out @ self.embedding.weights.T\n",
        "    return out_vector"
      ],
      "metadata": {
        "id": "RaoDjwZ2wfbW"
      },
      "execution_count": 30,
      "outputs": []
    },
    {
      "cell_type": "code",
      "source": [
        "from statistics import mean\n",
        "\n",
        "def train_loop(net, optimizer, epochs):\n",
        "    # We're doing classification, so we use crossentropy loss.\n",
        "    loss_fn = nn.CrossEntropyLoss(ignore_index=0)\n",
        "    train_losses = []\n",
        "    for epoch in range(epochs):\n",
        "        for batch, (x, y) in enumerate(train):\n",
        "            # zero_grad will set all the gradients to zero\n",
        "            # We need this because gradients will accumulate in the backward pass\n",
        "            optimizer.zero_grad()\n",
        "            # Make a prediction using the network\n",
        "            pred = net(x)\n",
        "            # Calculate the loss\n",
        "            loss = loss_fn(pred, y)\n",
        "            # Call loss.backward to run backpropagation\n",
        "            loss.backward()\n",
        "            # Step the optimizer to update the parameters\n",
        "            optimizer.step()\n",
        "            train_losses.append(loss.item())\n",
        "\n",
        "\n",
        "    return train_losses"
      ],
      "metadata": {
        "id": "Eu6AuCC3wng3"
      },
      "execution_count": 34,
      "outputs": []
    },
    {
      "cell_type": "code",
      "source": [
        "# Define our hyperparameters\n",
        "epochs = 50\n",
        "lr = 1e-3\n",
        "\n",
        "# Initialize our network\n",
        "net = TokenPredictor(len(vocab), 10, 256)\n",
        "# Optimizer\n",
        "optimizer = torch.optim.SGD(net.parameters(), lr=lr)\n",
        "losses = train_loop(net, optimizer, epochs)"
      ],
      "metadata": {
        "id": "CZFoNIq-L00t"
      },
      "execution_count": null,
      "outputs": []
    },
    {
      "cell_type": "code",
      "source": [],
      "metadata": {
        "id": "QFk_i8I3L730"
      },
      "execution_count": null,
      "outputs": []
    }
  ]
}